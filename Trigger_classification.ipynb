{
  "metadata": {
    "accelerator": "GPU",
    "colab": {
      "provenance": [],
      "gpuType": "V100"
    },
    "kernelspec": {
      "name": "python3",
      "display_name": "Python 3"
    },
    "language_info": {
      "name": "python",
      "version": "3.10.13",
      "mimetype": "text/x-python",
      "codemirror_mode": {
        "name": "ipython",
        "version": 3
      },
      "pygments_lexer": "ipython3",
      "nbconvert_exporter": "python",
      "file_extension": ".py"
    },
    "kaggle": {
      "accelerator": "nvidiaTeslaT4",
      "dataSources": [],
      "dockerImageVersionId": 30648,
      "isInternetEnabled": true,
      "language": "python",
      "sourceType": "notebook",
      "isGpuEnabled": true
    },
    "widgets": {
      "application/vnd.jupyter.widget-state+json": {
        "e1b6868b1b3d492b9779307c947d8119": {
          "model_module": "@jupyter-widgets/controls",
          "model_name": "HBoxModel",
          "model_module_version": "1.5.0",
          "state": {
            "_dom_classes": [],
            "_model_module": "@jupyter-widgets/controls",
            "_model_module_version": "1.5.0",
            "_model_name": "HBoxModel",
            "_view_count": null,
            "_view_module": "@jupyter-widgets/controls",
            "_view_module_version": "1.5.0",
            "_view_name": "HBoxView",
            "box_style": "",
            "children": [
              "IPY_MODEL_a3b5fefee2154d81a922542b8ebbb732",
              "IPY_MODEL_19883166de5b42ddb2d2cf6dc940e465",
              "IPY_MODEL_95167efd403a449c85e7900a1a2bfdb2"
            ],
            "layout": "IPY_MODEL_004471fc236240c6babdb4b78778e505"
          }
        },
        "a3b5fefee2154d81a922542b8ebbb732": {
          "model_module": "@jupyter-widgets/controls",
          "model_name": "HTMLModel",
          "model_module_version": "1.5.0",
          "state": {
            "_dom_classes": [],
            "_model_module": "@jupyter-widgets/controls",
            "_model_module_version": "1.5.0",
            "_model_name": "HTMLModel",
            "_view_count": null,
            "_view_module": "@jupyter-widgets/controls",
            "_view_module_version": "1.5.0",
            "_view_name": "HTMLView",
            "description": "",
            "description_tooltip": null,
            "layout": "IPY_MODEL_b0f21e0331e14863a86afe8479d22d12",
            "placeholder": "​",
            "style": "IPY_MODEL_5f4f102badbd4177bdd88f8844a16690",
            "value": "download?id=1wVNU2XvvhqjaGXZM-JLJwOt97gt4g9j2&amp;export=download&amp;authuser=0&amp;confirm=t&amp;uuid=9004532d-1162-47b2-985c-492039597222&amp;at=APZUnTWm8D1ZM5_aa68vV6nRf9FA:1705400593770: "
          }
        },
        "19883166de5b42ddb2d2cf6dc940e465": {
          "model_module": "@jupyter-widgets/controls",
          "model_name": "FloatProgressModel",
          "model_module_version": "1.5.0",
          "state": {
            "_dom_classes": [],
            "_model_module": "@jupyter-widgets/controls",
            "_model_module_version": "1.5.0",
            "_model_name": "FloatProgressModel",
            "_view_count": null,
            "_view_module": "@jupyter-widgets/controls",
            "_view_module_version": "1.5.0",
            "_view_name": "ProgressView",
            "bar_style": "success",
            "description": "",
            "description_tooltip": null,
            "layout": "IPY_MODEL_215ef4bcf1524d02807288dfc8b4d3cf",
            "max": 1,
            "min": 0,
            "orientation": "horizontal",
            "style": "IPY_MODEL_21bbc1ec094c4ab6a3719c97deeb67e1",
            "value": 1
          }
        },
        "95167efd403a449c85e7900a1a2bfdb2": {
          "model_module": "@jupyter-widgets/controls",
          "model_name": "HTMLModel",
          "model_module_version": "1.5.0",
          "state": {
            "_dom_classes": [],
            "_model_module": "@jupyter-widgets/controls",
            "_model_module_version": "1.5.0",
            "_model_name": "HTMLModel",
            "_view_count": null,
            "_view_module": "@jupyter-widgets/controls",
            "_view_module_version": "1.5.0",
            "_view_name": "HTMLView",
            "description": "",
            "description_tooltip": null,
            "layout": "IPY_MODEL_2c9fb9125bf5440289e762f2e5e25d47",
            "placeholder": "​",
            "style": "IPY_MODEL_6286bef0e37d4ce0a9896c70228360de",
            "value": " 5.19M/? [00:02&lt;00:00, 3.40kB/s]"
          }
        },
        "004471fc236240c6babdb4b78778e505": {
          "model_module": "@jupyter-widgets/base",
          "model_name": "LayoutModel",
          "model_module_version": "1.2.0",
          "state": {
            "_model_module": "@jupyter-widgets/base",
            "_model_module_version": "1.2.0",
            "_model_name": "LayoutModel",
            "_view_count": null,
            "_view_module": "@jupyter-widgets/base",
            "_view_module_version": "1.2.0",
            "_view_name": "LayoutView",
            "align_content": null,
            "align_items": null,
            "align_self": null,
            "border": null,
            "bottom": null,
            "display": null,
            "flex": null,
            "flex_flow": null,
            "grid_area": null,
            "grid_auto_columns": null,
            "grid_auto_flow": null,
            "grid_auto_rows": null,
            "grid_column": null,
            "grid_gap": null,
            "grid_row": null,
            "grid_template_areas": null,
            "grid_template_columns": null,
            "grid_template_rows": null,
            "height": null,
            "justify_content": null,
            "justify_items": null,
            "left": null,
            "margin": null,
            "max_height": null,
            "max_width": null,
            "min_height": null,
            "min_width": null,
            "object_fit": null,
            "object_position": null,
            "order": null,
            "overflow": null,
            "overflow_x": null,
            "overflow_y": null,
            "padding": null,
            "right": null,
            "top": null,
            "visibility": null,
            "width": null
          }
        },
        "b0f21e0331e14863a86afe8479d22d12": {
          "model_module": "@jupyter-widgets/base",
          "model_name": "LayoutModel",
          "model_module_version": "1.2.0",
          "state": {
            "_model_module": "@jupyter-widgets/base",
            "_model_module_version": "1.2.0",
            "_model_name": "LayoutModel",
            "_view_count": null,
            "_view_module": "@jupyter-widgets/base",
            "_view_module_version": "1.2.0",
            "_view_name": "LayoutView",
            "align_content": null,
            "align_items": null,
            "align_self": null,
            "border": null,
            "bottom": null,
            "display": null,
            "flex": null,
            "flex_flow": null,
            "grid_area": null,
            "grid_auto_columns": null,
            "grid_auto_flow": null,
            "grid_auto_rows": null,
            "grid_column": null,
            "grid_gap": null,
            "grid_row": null,
            "grid_template_areas": null,
            "grid_template_columns": null,
            "grid_template_rows": null,
            "height": null,
            "justify_content": null,
            "justify_items": null,
            "left": null,
            "margin": null,
            "max_height": null,
            "max_width": null,
            "min_height": null,
            "min_width": null,
            "object_fit": null,
            "object_position": null,
            "order": null,
            "overflow": null,
            "overflow_x": null,
            "overflow_y": null,
            "padding": null,
            "right": null,
            "top": null,
            "visibility": null,
            "width": null
          }
        },
        "5f4f102badbd4177bdd88f8844a16690": {
          "model_module": "@jupyter-widgets/controls",
          "model_name": "DescriptionStyleModel",
          "model_module_version": "1.5.0",
          "state": {
            "_model_module": "@jupyter-widgets/controls",
            "_model_module_version": "1.5.0",
            "_model_name": "DescriptionStyleModel",
            "_view_count": null,
            "_view_module": "@jupyter-widgets/base",
            "_view_module_version": "1.2.0",
            "_view_name": "StyleView",
            "description_width": ""
          }
        },
        "215ef4bcf1524d02807288dfc8b4d3cf": {
          "model_module": "@jupyter-widgets/base",
          "model_name": "LayoutModel",
          "model_module_version": "1.2.0",
          "state": {
            "_model_module": "@jupyter-widgets/base",
            "_model_module_version": "1.2.0",
            "_model_name": "LayoutModel",
            "_view_count": null,
            "_view_module": "@jupyter-widgets/base",
            "_view_module_version": "1.2.0",
            "_view_name": "LayoutView",
            "align_content": null,
            "align_items": null,
            "align_self": null,
            "border": null,
            "bottom": null,
            "display": null,
            "flex": null,
            "flex_flow": null,
            "grid_area": null,
            "grid_auto_columns": null,
            "grid_auto_flow": null,
            "grid_auto_rows": null,
            "grid_column": null,
            "grid_gap": null,
            "grid_row": null,
            "grid_template_areas": null,
            "grid_template_columns": null,
            "grid_template_rows": null,
            "height": null,
            "justify_content": null,
            "justify_items": null,
            "left": null,
            "margin": null,
            "max_height": null,
            "max_width": null,
            "min_height": null,
            "min_width": null,
            "object_fit": null,
            "object_position": null,
            "order": null,
            "overflow": null,
            "overflow_x": null,
            "overflow_y": null,
            "padding": null,
            "right": null,
            "top": null,
            "visibility": null,
            "width": "20px"
          }
        },
        "21bbc1ec094c4ab6a3719c97deeb67e1": {
          "model_module": "@jupyter-widgets/controls",
          "model_name": "ProgressStyleModel",
          "model_module_version": "1.5.0",
          "state": {
            "_model_module": "@jupyter-widgets/controls",
            "_model_module_version": "1.5.0",
            "_model_name": "ProgressStyleModel",
            "_view_count": null,
            "_view_module": "@jupyter-widgets/base",
            "_view_module_version": "1.2.0",
            "_view_name": "StyleView",
            "bar_color": null,
            "description_width": ""
          }
        },
        "2c9fb9125bf5440289e762f2e5e25d47": {
          "model_module": "@jupyter-widgets/base",
          "model_name": "LayoutModel",
          "model_module_version": "1.2.0",
          "state": {
            "_model_module": "@jupyter-widgets/base",
            "_model_module_version": "1.2.0",
            "_model_name": "LayoutModel",
            "_view_count": null,
            "_view_module": "@jupyter-widgets/base",
            "_view_module_version": "1.2.0",
            "_view_name": "LayoutView",
            "align_content": null,
            "align_items": null,
            "align_self": null,
            "border": null,
            "bottom": null,
            "display": null,
            "flex": null,
            "flex_flow": null,
            "grid_area": null,
            "grid_auto_columns": null,
            "grid_auto_flow": null,
            "grid_auto_rows": null,
            "grid_column": null,
            "grid_gap": null,
            "grid_row": null,
            "grid_template_areas": null,
            "grid_template_columns": null,
            "grid_template_rows": null,
            "height": null,
            "justify_content": null,
            "justify_items": null,
            "left": null,
            "margin": null,
            "max_height": null,
            "max_width": null,
            "min_height": null,
            "min_width": null,
            "object_fit": null,
            "object_position": null,
            "order": null,
            "overflow": null,
            "overflow_x": null,
            "overflow_y": null,
            "padding": null,
            "right": null,
            "top": null,
            "visibility": null,
            "width": null
          }
        },
        "6286bef0e37d4ce0a9896c70228360de": {
          "model_module": "@jupyter-widgets/controls",
          "model_name": "DescriptionStyleModel",
          "model_module_version": "1.5.0",
          "state": {
            "_model_module": "@jupyter-widgets/controls",
            "_model_module_version": "1.5.0",
            "_model_name": "DescriptionStyleModel",
            "_view_count": null,
            "_view_module": "@jupyter-widgets/base",
            "_view_module_version": "1.2.0",
            "_view_name": "StyleView",
            "description_width": ""
          }
        },
        "1c990fa809f64e41b948f2ea17c258bf": {
          "model_module": "@jupyter-widgets/controls",
          "model_name": "HBoxModel",
          "model_module_version": "1.5.0",
          "state": {
            "_dom_classes": [],
            "_model_module": "@jupyter-widgets/controls",
            "_model_module_version": "1.5.0",
            "_model_name": "HBoxModel",
            "_view_count": null,
            "_view_module": "@jupyter-widgets/controls",
            "_view_module_version": "1.5.0",
            "_view_name": "HBoxView",
            "box_style": "",
            "children": [
              "IPY_MODEL_2ad314001c114fbaad4e3c9831134c53",
              "IPY_MODEL_cf97b74e8674431f8c6651a674b1d40b",
              "IPY_MODEL_3200d795bb6a420cb8d0de08a8330406"
            ],
            "layout": "IPY_MODEL_dd61626e2d2f47d786b74f862906c1df"
          }
        },
        "2ad314001c114fbaad4e3c9831134c53": {
          "model_module": "@jupyter-widgets/controls",
          "model_name": "HTMLModel",
          "model_module_version": "1.5.0",
          "state": {
            "_dom_classes": [],
            "_model_module": "@jupyter-widgets/controls",
            "_model_module_version": "1.5.0",
            "_model_name": "HTMLModel",
            "_view_count": null,
            "_view_module": "@jupyter-widgets/controls",
            "_view_module_version": "1.5.0",
            "_view_name": "HTMLView",
            "description": "",
            "description_tooltip": null,
            "layout": "IPY_MODEL_69937a7edb0a45deaa8690bd0b9a6465",
            "placeholder": "​",
            "style": "IPY_MODEL_100705f9003b4340a03c7914473f0374",
            "value": "download?id=1wOgwT7Y9C3e4XIwecodTeO1acrbyIwkm&amp;export=download&amp;authuser=0&amp;confirm=t&amp;uuid=e4720599-94e5-4131-901b-702ca969911b&amp;at=APZUnTWVa93R-4Dj4LTvBIIwODRr:1705754234489: "
          }
        },
        "cf97b74e8674431f8c6651a674b1d40b": {
          "model_module": "@jupyter-widgets/controls",
          "model_name": "FloatProgressModel",
          "model_module_version": "1.5.0",
          "state": {
            "_dom_classes": [],
            "_model_module": "@jupyter-widgets/controls",
            "_model_module_version": "1.5.0",
            "_model_name": "FloatProgressModel",
            "_view_count": null,
            "_view_module": "@jupyter-widgets/controls",
            "_view_module_version": "1.5.0",
            "_view_name": "ProgressView",
            "bar_style": "success",
            "description": "",
            "description_tooltip": null,
            "layout": "IPY_MODEL_78ff9a8ab8114004956c0f7d80848f32",
            "max": 1,
            "min": 0,
            "orientation": "horizontal",
            "style": "IPY_MODEL_bb017a3d8cce44f4a577c68fbe5c1b49",
            "value": 1
          }
        },
        "3200d795bb6a420cb8d0de08a8330406": {
          "model_module": "@jupyter-widgets/controls",
          "model_name": "HTMLModel",
          "model_module_version": "1.5.0",
          "state": {
            "_dom_classes": [],
            "_model_module": "@jupyter-widgets/controls",
            "_model_module_version": "1.5.0",
            "_model_name": "HTMLModel",
            "_view_count": null,
            "_view_module": "@jupyter-widgets/controls",
            "_view_module_version": "1.5.0",
            "_view_name": "HTMLView",
            "description": "",
            "description_tooltip": null,
            "layout": "IPY_MODEL_2464de278fb9478386245a04d9498166",
            "placeholder": "​",
            "style": "IPY_MODEL_6cabb8c238f24fc1b7662d272a085667",
            "value": " 287k/? [00:00&lt;00:00, 18.4kB/s]"
          }
        },
        "dd61626e2d2f47d786b74f862906c1df": {
          "model_module": "@jupyter-widgets/base",
          "model_name": "LayoutModel",
          "model_module_version": "1.2.0",
          "state": {
            "_model_module": "@jupyter-widgets/base",
            "_model_module_version": "1.2.0",
            "_model_name": "LayoutModel",
            "_view_count": null,
            "_view_module": "@jupyter-widgets/base",
            "_view_module_version": "1.2.0",
            "_view_name": "LayoutView",
            "align_content": null,
            "align_items": null,
            "align_self": null,
            "border": null,
            "bottom": null,
            "display": null,
            "flex": null,
            "flex_flow": null,
            "grid_area": null,
            "grid_auto_columns": null,
            "grid_auto_flow": null,
            "grid_auto_rows": null,
            "grid_column": null,
            "grid_gap": null,
            "grid_row": null,
            "grid_template_areas": null,
            "grid_template_columns": null,
            "grid_template_rows": null,
            "height": null,
            "justify_content": null,
            "justify_items": null,
            "left": null,
            "margin": null,
            "max_height": null,
            "max_width": null,
            "min_height": null,
            "min_width": null,
            "object_fit": null,
            "object_position": null,
            "order": null,
            "overflow": null,
            "overflow_x": null,
            "overflow_y": null,
            "padding": null,
            "right": null,
            "top": null,
            "visibility": null,
            "width": null
          }
        },
        "69937a7edb0a45deaa8690bd0b9a6465": {
          "model_module": "@jupyter-widgets/base",
          "model_name": "LayoutModel",
          "model_module_version": "1.2.0",
          "state": {
            "_model_module": "@jupyter-widgets/base",
            "_model_module_version": "1.2.0",
            "_model_name": "LayoutModel",
            "_view_count": null,
            "_view_module": "@jupyter-widgets/base",
            "_view_module_version": "1.2.0",
            "_view_name": "LayoutView",
            "align_content": null,
            "align_items": null,
            "align_self": null,
            "border": null,
            "bottom": null,
            "display": null,
            "flex": null,
            "flex_flow": null,
            "grid_area": null,
            "grid_auto_columns": null,
            "grid_auto_flow": null,
            "grid_auto_rows": null,
            "grid_column": null,
            "grid_gap": null,
            "grid_row": null,
            "grid_template_areas": null,
            "grid_template_columns": null,
            "grid_template_rows": null,
            "height": null,
            "justify_content": null,
            "justify_items": null,
            "left": null,
            "margin": null,
            "max_height": null,
            "max_width": null,
            "min_height": null,
            "min_width": null,
            "object_fit": null,
            "object_position": null,
            "order": null,
            "overflow": null,
            "overflow_x": null,
            "overflow_y": null,
            "padding": null,
            "right": null,
            "top": null,
            "visibility": null,
            "width": null
          }
        },
        "100705f9003b4340a03c7914473f0374": {
          "model_module": "@jupyter-widgets/controls",
          "model_name": "DescriptionStyleModel",
          "model_module_version": "1.5.0",
          "state": {
            "_model_module": "@jupyter-widgets/controls",
            "_model_module_version": "1.5.0",
            "_model_name": "DescriptionStyleModel",
            "_view_count": null,
            "_view_module": "@jupyter-widgets/base",
            "_view_module_version": "1.2.0",
            "_view_name": "StyleView",
            "description_width": ""
          }
        },
        "78ff9a8ab8114004956c0f7d80848f32": {
          "model_module": "@jupyter-widgets/base",
          "model_name": "LayoutModel",
          "model_module_version": "1.2.0",
          "state": {
            "_model_module": "@jupyter-widgets/base",
            "_model_module_version": "1.2.0",
            "_model_name": "LayoutModel",
            "_view_count": null,
            "_view_module": "@jupyter-widgets/base",
            "_view_module_version": "1.2.0",
            "_view_name": "LayoutView",
            "align_content": null,
            "align_items": null,
            "align_self": null,
            "border": null,
            "bottom": null,
            "display": null,
            "flex": null,
            "flex_flow": null,
            "grid_area": null,
            "grid_auto_columns": null,
            "grid_auto_flow": null,
            "grid_auto_rows": null,
            "grid_column": null,
            "grid_gap": null,
            "grid_row": null,
            "grid_template_areas": null,
            "grid_template_columns": null,
            "grid_template_rows": null,
            "height": null,
            "justify_content": null,
            "justify_items": null,
            "left": null,
            "margin": null,
            "max_height": null,
            "max_width": null,
            "min_height": null,
            "min_width": null,
            "object_fit": null,
            "object_position": null,
            "order": null,
            "overflow": null,
            "overflow_x": null,
            "overflow_y": null,
            "padding": null,
            "right": null,
            "top": null,
            "visibility": null,
            "width": "20px"
          }
        },
        "bb017a3d8cce44f4a577c68fbe5c1b49": {
          "model_module": "@jupyter-widgets/controls",
          "model_name": "ProgressStyleModel",
          "model_module_version": "1.5.0",
          "state": {
            "_model_module": "@jupyter-widgets/controls",
            "_model_module_version": "1.5.0",
            "_model_name": "ProgressStyleModel",
            "_view_count": null,
            "_view_module": "@jupyter-widgets/base",
            "_view_module_version": "1.2.0",
            "_view_name": "StyleView",
            "bar_color": null,
            "description_width": ""
          }
        },
        "2464de278fb9478386245a04d9498166": {
          "model_module": "@jupyter-widgets/base",
          "model_name": "LayoutModel",
          "model_module_version": "1.2.0",
          "state": {
            "_model_module": "@jupyter-widgets/base",
            "_model_module_version": "1.2.0",
            "_model_name": "LayoutModel",
            "_view_count": null,
            "_view_module": "@jupyter-widgets/base",
            "_view_module_version": "1.2.0",
            "_view_name": "LayoutView",
            "align_content": null,
            "align_items": null,
            "align_self": null,
            "border": null,
            "bottom": null,
            "display": null,
            "flex": null,
            "flex_flow": null,
            "grid_area": null,
            "grid_auto_columns": null,
            "grid_auto_flow": null,
            "grid_auto_rows": null,
            "grid_column": null,
            "grid_gap": null,
            "grid_row": null,
            "grid_template_areas": null,
            "grid_template_columns": null,
            "grid_template_rows": null,
            "height": null,
            "justify_content": null,
            "justify_items": null,
            "left": null,
            "margin": null,
            "max_height": null,
            "max_width": null,
            "min_height": null,
            "min_width": null,
            "object_fit": null,
            "object_position": null,
            "order": null,
            "overflow": null,
            "overflow_x": null,
            "overflow_y": null,
            "padding": null,
            "right": null,
            "top": null,
            "visibility": null,
            "width": null
          }
        },
        "6cabb8c238f24fc1b7662d272a085667": {
          "model_module": "@jupyter-widgets/controls",
          "model_name": "DescriptionStyleModel",
          "model_module_version": "1.5.0",
          "state": {
            "_model_module": "@jupyter-widgets/controls",
            "_model_module_version": "1.5.0",
            "_model_name": "DescriptionStyleModel",
            "_view_count": null,
            "_view_module": "@jupyter-widgets/base",
            "_view_module_version": "1.2.0",
            "_view_name": "StyleView",
            "description_width": ""
          }
        },
        "6a5cbe7f78014e26bc9b987ef21db5d1": {
          "model_module": "@jupyter-widgets/controls",
          "model_name": "HBoxModel",
          "model_module_version": "1.5.0",
          "state": {
            "_dom_classes": [],
            "_model_module": "@jupyter-widgets/controls",
            "_model_module_version": "1.5.0",
            "_model_name": "HBoxModel",
            "_view_count": null,
            "_view_module": "@jupyter-widgets/controls",
            "_view_module_version": "1.5.0",
            "_view_name": "HBoxView",
            "box_style": "",
            "children": [
              "IPY_MODEL_cca6d5b9954a465a90a0239ac370745e",
              "IPY_MODEL_b16562f15806446f94a83ae1bc3c5126",
              "IPY_MODEL_d6c7e84ad01a4dc8b1b3a4448c628ce6"
            ],
            "layout": "IPY_MODEL_d74beda9871649019c9901f2f64defc1"
          }
        },
        "cca6d5b9954a465a90a0239ac370745e": {
          "model_module": "@jupyter-widgets/controls",
          "model_name": "HTMLModel",
          "model_module_version": "1.5.0",
          "state": {
            "_dom_classes": [],
            "_model_module": "@jupyter-widgets/controls",
            "_model_module_version": "1.5.0",
            "_model_name": "HTMLModel",
            "_view_count": null,
            "_view_module": "@jupyter-widgets/controls",
            "_view_module_version": "1.5.0",
            "_view_name": "HTMLView",
            "description": "",
            "description_tooltip": null,
            "layout": "IPY_MODEL_00352c5beea842379e9f0370a9e88741",
            "placeholder": "​",
            "style": "IPY_MODEL_707bbc356c2445e38cc67e39692c2694",
            "value": "download?id=1iS3Gjyi30e4gu7dRGSY5beOG4KFAB9E-&amp;export=download&amp;authuser=0&amp;confirm=t&amp;uuid=41eabfc2-eb88-47f2-86ae-38c31ef764a9&amp;at=APZUnTX1AwYtJ_oyDVv7G2Lx34r1:1705754302262: "
          }
        },
        "b16562f15806446f94a83ae1bc3c5126": {
          "model_module": "@jupyter-widgets/controls",
          "model_name": "FloatProgressModel",
          "model_module_version": "1.5.0",
          "state": {
            "_dom_classes": [],
            "_model_module": "@jupyter-widgets/controls",
            "_model_module_version": "1.5.0",
            "_model_name": "FloatProgressModel",
            "_view_count": null,
            "_view_module": "@jupyter-widgets/controls",
            "_view_module_version": "1.5.0",
            "_view_name": "ProgressView",
            "bar_style": "success",
            "description": "",
            "description_tooltip": null,
            "layout": "IPY_MODEL_f1b8229d7461430d9855c85cfe68d27e",
            "max": 1,
            "min": 0,
            "orientation": "horizontal",
            "style": "IPY_MODEL_9e1a9c8e91274612ab1c3bd889e29ea9",
            "value": 1
          }
        },
        "d6c7e84ad01a4dc8b1b3a4448c628ce6": {
          "model_module": "@jupyter-widgets/controls",
          "model_name": "HTMLModel",
          "model_module_version": "1.5.0",
          "state": {
            "_dom_classes": [],
            "_model_module": "@jupyter-widgets/controls",
            "_model_module_version": "1.5.0",
            "_model_name": "HTMLModel",
            "_view_count": null,
            "_view_module": "@jupyter-widgets/controls",
            "_view_module_version": "1.5.0",
            "_view_name": "HTMLView",
            "description": "",
            "description_tooltip": null,
            "layout": "IPY_MODEL_f8dc3ace80f443ebb1bb2ff7c4fb4fd0",
            "placeholder": "​",
            "style": "IPY_MODEL_21d11f021a3f422cbba145e404ec4c25",
            "value": " 664k/? [00:00&lt;00:00, 8.68kB/s]"
          }
        },
        "d74beda9871649019c9901f2f64defc1": {
          "model_module": "@jupyter-widgets/base",
          "model_name": "LayoutModel",
          "model_module_version": "1.2.0",
          "state": {
            "_model_module": "@jupyter-widgets/base",
            "_model_module_version": "1.2.0",
            "_model_name": "LayoutModel",
            "_view_count": null,
            "_view_module": "@jupyter-widgets/base",
            "_view_module_version": "1.2.0",
            "_view_name": "LayoutView",
            "align_content": null,
            "align_items": null,
            "align_self": null,
            "border": null,
            "bottom": null,
            "display": null,
            "flex": null,
            "flex_flow": null,
            "grid_area": null,
            "grid_auto_columns": null,
            "grid_auto_flow": null,
            "grid_auto_rows": null,
            "grid_column": null,
            "grid_gap": null,
            "grid_row": null,
            "grid_template_areas": null,
            "grid_template_columns": null,
            "grid_template_rows": null,
            "height": null,
            "justify_content": null,
            "justify_items": null,
            "left": null,
            "margin": null,
            "max_height": null,
            "max_width": null,
            "min_height": null,
            "min_width": null,
            "object_fit": null,
            "object_position": null,
            "order": null,
            "overflow": null,
            "overflow_x": null,
            "overflow_y": null,
            "padding": null,
            "right": null,
            "top": null,
            "visibility": null,
            "width": null
          }
        },
        "00352c5beea842379e9f0370a9e88741": {
          "model_module": "@jupyter-widgets/base",
          "model_name": "LayoutModel",
          "model_module_version": "1.2.0",
          "state": {
            "_model_module": "@jupyter-widgets/base",
            "_model_module_version": "1.2.0",
            "_model_name": "LayoutModel",
            "_view_count": null,
            "_view_module": "@jupyter-widgets/base",
            "_view_module_version": "1.2.0",
            "_view_name": "LayoutView",
            "align_content": null,
            "align_items": null,
            "align_self": null,
            "border": null,
            "bottom": null,
            "display": null,
            "flex": null,
            "flex_flow": null,
            "grid_area": null,
            "grid_auto_columns": null,
            "grid_auto_flow": null,
            "grid_auto_rows": null,
            "grid_column": null,
            "grid_gap": null,
            "grid_row": null,
            "grid_template_areas": null,
            "grid_template_columns": null,
            "grid_template_rows": null,
            "height": null,
            "justify_content": null,
            "justify_items": null,
            "left": null,
            "margin": null,
            "max_height": null,
            "max_width": null,
            "min_height": null,
            "min_width": null,
            "object_fit": null,
            "object_position": null,
            "order": null,
            "overflow": null,
            "overflow_x": null,
            "overflow_y": null,
            "padding": null,
            "right": null,
            "top": null,
            "visibility": null,
            "width": null
          }
        },
        "707bbc356c2445e38cc67e39692c2694": {
          "model_module": "@jupyter-widgets/controls",
          "model_name": "DescriptionStyleModel",
          "model_module_version": "1.5.0",
          "state": {
            "_model_module": "@jupyter-widgets/controls",
            "_model_module_version": "1.5.0",
            "_model_name": "DescriptionStyleModel",
            "_view_count": null,
            "_view_module": "@jupyter-widgets/base",
            "_view_module_version": "1.2.0",
            "_view_name": "StyleView",
            "description_width": ""
          }
        },
        "f1b8229d7461430d9855c85cfe68d27e": {
          "model_module": "@jupyter-widgets/base",
          "model_name": "LayoutModel",
          "model_module_version": "1.2.0",
          "state": {
            "_model_module": "@jupyter-widgets/base",
            "_model_module_version": "1.2.0",
            "_model_name": "LayoutModel",
            "_view_count": null,
            "_view_module": "@jupyter-widgets/base",
            "_view_module_version": "1.2.0",
            "_view_name": "LayoutView",
            "align_content": null,
            "align_items": null,
            "align_self": null,
            "border": null,
            "bottom": null,
            "display": null,
            "flex": null,
            "flex_flow": null,
            "grid_area": null,
            "grid_auto_columns": null,
            "grid_auto_flow": null,
            "grid_auto_rows": null,
            "grid_column": null,
            "grid_gap": null,
            "grid_row": null,
            "grid_template_areas": null,
            "grid_template_columns": null,
            "grid_template_rows": null,
            "height": null,
            "justify_content": null,
            "justify_items": null,
            "left": null,
            "margin": null,
            "max_height": null,
            "max_width": null,
            "min_height": null,
            "min_width": null,
            "object_fit": null,
            "object_position": null,
            "order": null,
            "overflow": null,
            "overflow_x": null,
            "overflow_y": null,
            "padding": null,
            "right": null,
            "top": null,
            "visibility": null,
            "width": "20px"
          }
        },
        "9e1a9c8e91274612ab1c3bd889e29ea9": {
          "model_module": "@jupyter-widgets/controls",
          "model_name": "ProgressStyleModel",
          "model_module_version": "1.5.0",
          "state": {
            "_model_module": "@jupyter-widgets/controls",
            "_model_module_version": "1.5.0",
            "_model_name": "ProgressStyleModel",
            "_view_count": null,
            "_view_module": "@jupyter-widgets/base",
            "_view_module_version": "1.2.0",
            "_view_name": "StyleView",
            "bar_color": null,
            "description_width": ""
          }
        },
        "f8dc3ace80f443ebb1bb2ff7c4fb4fd0": {
          "model_module": "@jupyter-widgets/base",
          "model_name": "LayoutModel",
          "model_module_version": "1.2.0",
          "state": {
            "_model_module": "@jupyter-widgets/base",
            "_model_module_version": "1.2.0",
            "_model_name": "LayoutModel",
            "_view_count": null,
            "_view_module": "@jupyter-widgets/base",
            "_view_module_version": "1.2.0",
            "_view_name": "LayoutView",
            "align_content": null,
            "align_items": null,
            "align_self": null,
            "border": null,
            "bottom": null,
            "display": null,
            "flex": null,
            "flex_flow": null,
            "grid_area": null,
            "grid_auto_columns": null,
            "grid_auto_flow": null,
            "grid_auto_rows": null,
            "grid_column": null,
            "grid_gap": null,
            "grid_row": null,
            "grid_template_areas": null,
            "grid_template_columns": null,
            "grid_template_rows": null,
            "height": null,
            "justify_content": null,
            "justify_items": null,
            "left": null,
            "margin": null,
            "max_height": null,
            "max_width": null,
            "min_height": null,
            "min_width": null,
            "object_fit": null,
            "object_position": null,
            "order": null,
            "overflow": null,
            "overflow_x": null,
            "overflow_y": null,
            "padding": null,
            "right": null,
            "top": null,
            "visibility": null,
            "width": null
          }
        },
        "21d11f021a3f422cbba145e404ec4c25": {
          "model_module": "@jupyter-widgets/controls",
          "model_name": "DescriptionStyleModel",
          "model_module_version": "1.5.0",
          "state": {
            "_model_module": "@jupyter-widgets/controls",
            "_model_module_version": "1.5.0",
            "_model_name": "DescriptionStyleModel",
            "_view_count": null,
            "_view_module": "@jupyter-widgets/base",
            "_view_module_version": "1.2.0",
            "_view_name": "StyleView",
            "description_width": ""
          }
        },
        "f98e61a5c7ed4a0a83392a9848f48736": {
          "model_module": "@jupyter-widgets/controls",
          "model_name": "HBoxModel",
          "model_module_version": "1.5.0",
          "state": {
            "_dom_classes": [],
            "_model_module": "@jupyter-widgets/controls",
            "_model_module_version": "1.5.0",
            "_model_name": "HBoxModel",
            "_view_count": null,
            "_view_module": "@jupyter-widgets/controls",
            "_view_module_version": "1.5.0",
            "_view_name": "HBoxView",
            "box_style": "",
            "children": [
              "IPY_MODEL_98766115878d48eaa44b04a8de2e0684",
              "IPY_MODEL_2436c4fb3c9f4dc4b72244c4b148d470",
              "IPY_MODEL_a381d2877aeb4d9e821c0d5e12ffb69a"
            ],
            "layout": "IPY_MODEL_e6c4bee8c9194ffe9dfcb5c365b808bc"
          }
        },
        "98766115878d48eaa44b04a8de2e0684": {
          "model_module": "@jupyter-widgets/controls",
          "model_name": "HTMLModel",
          "model_module_version": "1.5.0",
          "state": {
            "_dom_classes": [],
            "_model_module": "@jupyter-widgets/controls",
            "_model_module_version": "1.5.0",
            "_model_name": "HTMLModel",
            "_view_count": null,
            "_view_module": "@jupyter-widgets/controls",
            "_view_module_version": "1.5.0",
            "_view_name": "HTMLView",
            "description": "",
            "description_tooltip": null,
            "layout": "IPY_MODEL_3818072437f34ff2a97b3f8a098411be",
            "placeholder": "​",
            "style": "IPY_MODEL_6f88eb3ab1434bad80866e71e5ddbfab",
            "value": "vocab.txt: 100%"
          }
        },
        "2436c4fb3c9f4dc4b72244c4b148d470": {
          "model_module": "@jupyter-widgets/controls",
          "model_name": "FloatProgressModel",
          "model_module_version": "1.5.0",
          "state": {
            "_dom_classes": [],
            "_model_module": "@jupyter-widgets/controls",
            "_model_module_version": "1.5.0",
            "_model_name": "FloatProgressModel",
            "_view_count": null,
            "_view_module": "@jupyter-widgets/controls",
            "_view_module_version": "1.5.0",
            "_view_name": "ProgressView",
            "bar_style": "success",
            "description": "",
            "description_tooltip": null,
            "layout": "IPY_MODEL_84de03a7f9884b8fa28be1700e1f6354",
            "max": 231508,
            "min": 0,
            "orientation": "horizontal",
            "style": "IPY_MODEL_546044f32b8a4c9d91729dec6961ac4f",
            "value": 231508
          }
        },
        "a381d2877aeb4d9e821c0d5e12ffb69a": {
          "model_module": "@jupyter-widgets/controls",
          "model_name": "HTMLModel",
          "model_module_version": "1.5.0",
          "state": {
            "_dom_classes": [],
            "_model_module": "@jupyter-widgets/controls",
            "_model_module_version": "1.5.0",
            "_model_name": "HTMLModel",
            "_view_count": null,
            "_view_module": "@jupyter-widgets/controls",
            "_view_module_version": "1.5.0",
            "_view_name": "HTMLView",
            "description": "",
            "description_tooltip": null,
            "layout": "IPY_MODEL_1d453a23fb3b4c05b117847b837773e4",
            "placeholder": "​",
            "style": "IPY_MODEL_1ab8d6dc1be7464ba259ff2e0ea33469",
            "value": " 232k/232k [00:00&lt;00:00, 4.54MB/s]"
          }
        },
        "e6c4bee8c9194ffe9dfcb5c365b808bc": {
          "model_module": "@jupyter-widgets/base",
          "model_name": "LayoutModel",
          "model_module_version": "1.2.0",
          "state": {
            "_model_module": "@jupyter-widgets/base",
            "_model_module_version": "1.2.0",
            "_model_name": "LayoutModel",
            "_view_count": null,
            "_view_module": "@jupyter-widgets/base",
            "_view_module_version": "1.2.0",
            "_view_name": "LayoutView",
            "align_content": null,
            "align_items": null,
            "align_self": null,
            "border": null,
            "bottom": null,
            "display": null,
            "flex": null,
            "flex_flow": null,
            "grid_area": null,
            "grid_auto_columns": null,
            "grid_auto_flow": null,
            "grid_auto_rows": null,
            "grid_column": null,
            "grid_gap": null,
            "grid_row": null,
            "grid_template_areas": null,
            "grid_template_columns": null,
            "grid_template_rows": null,
            "height": null,
            "justify_content": null,
            "justify_items": null,
            "left": null,
            "margin": null,
            "max_height": null,
            "max_width": null,
            "min_height": null,
            "min_width": null,
            "object_fit": null,
            "object_position": null,
            "order": null,
            "overflow": null,
            "overflow_x": null,
            "overflow_y": null,
            "padding": null,
            "right": null,
            "top": null,
            "visibility": null,
            "width": null
          }
        },
        "3818072437f34ff2a97b3f8a098411be": {
          "model_module": "@jupyter-widgets/base",
          "model_name": "LayoutModel",
          "model_module_version": "1.2.0",
          "state": {
            "_model_module": "@jupyter-widgets/base",
            "_model_module_version": "1.2.0",
            "_model_name": "LayoutModel",
            "_view_count": null,
            "_view_module": "@jupyter-widgets/base",
            "_view_module_version": "1.2.0",
            "_view_name": "LayoutView",
            "align_content": null,
            "align_items": null,
            "align_self": null,
            "border": null,
            "bottom": null,
            "display": null,
            "flex": null,
            "flex_flow": null,
            "grid_area": null,
            "grid_auto_columns": null,
            "grid_auto_flow": null,
            "grid_auto_rows": null,
            "grid_column": null,
            "grid_gap": null,
            "grid_row": null,
            "grid_template_areas": null,
            "grid_template_columns": null,
            "grid_template_rows": null,
            "height": null,
            "justify_content": null,
            "justify_items": null,
            "left": null,
            "margin": null,
            "max_height": null,
            "max_width": null,
            "min_height": null,
            "min_width": null,
            "object_fit": null,
            "object_position": null,
            "order": null,
            "overflow": null,
            "overflow_x": null,
            "overflow_y": null,
            "padding": null,
            "right": null,
            "top": null,
            "visibility": null,
            "width": null
          }
        },
        "6f88eb3ab1434bad80866e71e5ddbfab": {
          "model_module": "@jupyter-widgets/controls",
          "model_name": "DescriptionStyleModel",
          "model_module_version": "1.5.0",
          "state": {
            "_model_module": "@jupyter-widgets/controls",
            "_model_module_version": "1.5.0",
            "_model_name": "DescriptionStyleModel",
            "_view_count": null,
            "_view_module": "@jupyter-widgets/base",
            "_view_module_version": "1.2.0",
            "_view_name": "StyleView",
            "description_width": ""
          }
        },
        "84de03a7f9884b8fa28be1700e1f6354": {
          "model_module": "@jupyter-widgets/base",
          "model_name": "LayoutModel",
          "model_module_version": "1.2.0",
          "state": {
            "_model_module": "@jupyter-widgets/base",
            "_model_module_version": "1.2.0",
            "_model_name": "LayoutModel",
            "_view_count": null,
            "_view_module": "@jupyter-widgets/base",
            "_view_module_version": "1.2.0",
            "_view_name": "LayoutView",
            "align_content": null,
            "align_items": null,
            "align_self": null,
            "border": null,
            "bottom": null,
            "display": null,
            "flex": null,
            "flex_flow": null,
            "grid_area": null,
            "grid_auto_columns": null,
            "grid_auto_flow": null,
            "grid_auto_rows": null,
            "grid_column": null,
            "grid_gap": null,
            "grid_row": null,
            "grid_template_areas": null,
            "grid_template_columns": null,
            "grid_template_rows": null,
            "height": null,
            "justify_content": null,
            "justify_items": null,
            "left": null,
            "margin": null,
            "max_height": null,
            "max_width": null,
            "min_height": null,
            "min_width": null,
            "object_fit": null,
            "object_position": null,
            "order": null,
            "overflow": null,
            "overflow_x": null,
            "overflow_y": null,
            "padding": null,
            "right": null,
            "top": null,
            "visibility": null,
            "width": null
          }
        },
        "546044f32b8a4c9d91729dec6961ac4f": {
          "model_module": "@jupyter-widgets/controls",
          "model_name": "ProgressStyleModel",
          "model_module_version": "1.5.0",
          "state": {
            "_model_module": "@jupyter-widgets/controls",
            "_model_module_version": "1.5.0",
            "_model_name": "ProgressStyleModel",
            "_view_count": null,
            "_view_module": "@jupyter-widgets/base",
            "_view_module_version": "1.2.0",
            "_view_name": "StyleView",
            "bar_color": null,
            "description_width": ""
          }
        },
        "1d453a23fb3b4c05b117847b837773e4": {
          "model_module": "@jupyter-widgets/base",
          "model_name": "LayoutModel",
          "model_module_version": "1.2.0",
          "state": {
            "_model_module": "@jupyter-widgets/base",
            "_model_module_version": "1.2.0",
            "_model_name": "LayoutModel",
            "_view_count": null,
            "_view_module": "@jupyter-widgets/base",
            "_view_module_version": "1.2.0",
            "_view_name": "LayoutView",
            "align_content": null,
            "align_items": null,
            "align_self": null,
            "border": null,
            "bottom": null,
            "display": null,
            "flex": null,
            "flex_flow": null,
            "grid_area": null,
            "grid_auto_columns": null,
            "grid_auto_flow": null,
            "grid_auto_rows": null,
            "grid_column": null,
            "grid_gap": null,
            "grid_row": null,
            "grid_template_areas": null,
            "grid_template_columns": null,
            "grid_template_rows": null,
            "height": null,
            "justify_content": null,
            "justify_items": null,
            "left": null,
            "margin": null,
            "max_height": null,
            "max_width": null,
            "min_height": null,
            "min_width": null,
            "object_fit": null,
            "object_position": null,
            "order": null,
            "overflow": null,
            "overflow_x": null,
            "overflow_y": null,
            "padding": null,
            "right": null,
            "top": null,
            "visibility": null,
            "width": null
          }
        },
        "1ab8d6dc1be7464ba259ff2e0ea33469": {
          "model_module": "@jupyter-widgets/controls",
          "model_name": "DescriptionStyleModel",
          "model_module_version": "1.5.0",
          "state": {
            "_model_module": "@jupyter-widgets/controls",
            "_model_module_version": "1.5.0",
            "_model_name": "DescriptionStyleModel",
            "_view_count": null,
            "_view_module": "@jupyter-widgets/base",
            "_view_module_version": "1.2.0",
            "_view_name": "StyleView",
            "description_width": ""
          }
        },
        "34fd78ed2aea4b81b5870c8a42da2307": {
          "model_module": "@jupyter-widgets/controls",
          "model_name": "HBoxModel",
          "model_module_version": "1.5.0",
          "state": {
            "_dom_classes": [],
            "_model_module": "@jupyter-widgets/controls",
            "_model_module_version": "1.5.0",
            "_model_name": "HBoxModel",
            "_view_count": null,
            "_view_module": "@jupyter-widgets/controls",
            "_view_module_version": "1.5.0",
            "_view_name": "HBoxView",
            "box_style": "",
            "children": [
              "IPY_MODEL_f4bee6474ed24a5c93cd1d5bceec08a8",
              "IPY_MODEL_a4a8b7fc6715491bac898bc249678999",
              "IPY_MODEL_b67d541291cd42919f59915ea1f5ed03"
            ],
            "layout": "IPY_MODEL_4548083cdd5c4f2e8d79ece658c381e7"
          }
        },
        "f4bee6474ed24a5c93cd1d5bceec08a8": {
          "model_module": "@jupyter-widgets/controls",
          "model_name": "HTMLModel",
          "model_module_version": "1.5.0",
          "state": {
            "_dom_classes": [],
            "_model_module": "@jupyter-widgets/controls",
            "_model_module_version": "1.5.0",
            "_model_name": "HTMLModel",
            "_view_count": null,
            "_view_module": "@jupyter-widgets/controls",
            "_view_module_version": "1.5.0",
            "_view_name": "HTMLView",
            "description": "",
            "description_tooltip": null,
            "layout": "IPY_MODEL_48e3118c6fe94ddf9ff30ac76949c906",
            "placeholder": "​",
            "style": "IPY_MODEL_d9ec86fbdda5455ab46aa17276b8c3fc",
            "value": "tokenizer.json: 100%"
          }
        },
        "a4a8b7fc6715491bac898bc249678999": {
          "model_module": "@jupyter-widgets/controls",
          "model_name": "FloatProgressModel",
          "model_module_version": "1.5.0",
          "state": {
            "_dom_classes": [],
            "_model_module": "@jupyter-widgets/controls",
            "_model_module_version": "1.5.0",
            "_model_name": "FloatProgressModel",
            "_view_count": null,
            "_view_module": "@jupyter-widgets/controls",
            "_view_module_version": "1.5.0",
            "_view_name": "ProgressView",
            "bar_style": "success",
            "description": "",
            "description_tooltip": null,
            "layout": "IPY_MODEL_a1cea64ad1f141a1985f0142700d92e0",
            "max": 466062,
            "min": 0,
            "orientation": "horizontal",
            "style": "IPY_MODEL_f05b1e0a233e49e3a8db124b8ab9b235",
            "value": 466062
          }
        },
        "b67d541291cd42919f59915ea1f5ed03": {
          "model_module": "@jupyter-widgets/controls",
          "model_name": "HTMLModel",
          "model_module_version": "1.5.0",
          "state": {
            "_dom_classes": [],
            "_model_module": "@jupyter-widgets/controls",
            "_model_module_version": "1.5.0",
            "_model_name": "HTMLModel",
            "_view_count": null,
            "_view_module": "@jupyter-widgets/controls",
            "_view_module_version": "1.5.0",
            "_view_name": "HTMLView",
            "description": "",
            "description_tooltip": null,
            "layout": "IPY_MODEL_8318c82362ef4596afaa03aa59239c28",
            "placeholder": "​",
            "style": "IPY_MODEL_b4123fe3b21c4b2aa0a7e0c7274b3667",
            "value": " 466k/466k [00:00&lt;00:00, 21.1MB/s]"
          }
        },
        "4548083cdd5c4f2e8d79ece658c381e7": {
          "model_module": "@jupyter-widgets/base",
          "model_name": "LayoutModel",
          "model_module_version": "1.2.0",
          "state": {
            "_model_module": "@jupyter-widgets/base",
            "_model_module_version": "1.2.0",
            "_model_name": "LayoutModel",
            "_view_count": null,
            "_view_module": "@jupyter-widgets/base",
            "_view_module_version": "1.2.0",
            "_view_name": "LayoutView",
            "align_content": null,
            "align_items": null,
            "align_self": null,
            "border": null,
            "bottom": null,
            "display": null,
            "flex": null,
            "flex_flow": null,
            "grid_area": null,
            "grid_auto_columns": null,
            "grid_auto_flow": null,
            "grid_auto_rows": null,
            "grid_column": null,
            "grid_gap": null,
            "grid_row": null,
            "grid_template_areas": null,
            "grid_template_columns": null,
            "grid_template_rows": null,
            "height": null,
            "justify_content": null,
            "justify_items": null,
            "left": null,
            "margin": null,
            "max_height": null,
            "max_width": null,
            "min_height": null,
            "min_width": null,
            "object_fit": null,
            "object_position": null,
            "order": null,
            "overflow": null,
            "overflow_x": null,
            "overflow_y": null,
            "padding": null,
            "right": null,
            "top": null,
            "visibility": null,
            "width": null
          }
        },
        "48e3118c6fe94ddf9ff30ac76949c906": {
          "model_module": "@jupyter-widgets/base",
          "model_name": "LayoutModel",
          "model_module_version": "1.2.0",
          "state": {
            "_model_module": "@jupyter-widgets/base",
            "_model_module_version": "1.2.0",
            "_model_name": "LayoutModel",
            "_view_count": null,
            "_view_module": "@jupyter-widgets/base",
            "_view_module_version": "1.2.0",
            "_view_name": "LayoutView",
            "align_content": null,
            "align_items": null,
            "align_self": null,
            "border": null,
            "bottom": null,
            "display": null,
            "flex": null,
            "flex_flow": null,
            "grid_area": null,
            "grid_auto_columns": null,
            "grid_auto_flow": null,
            "grid_auto_rows": null,
            "grid_column": null,
            "grid_gap": null,
            "grid_row": null,
            "grid_template_areas": null,
            "grid_template_columns": null,
            "grid_template_rows": null,
            "height": null,
            "justify_content": null,
            "justify_items": null,
            "left": null,
            "margin": null,
            "max_height": null,
            "max_width": null,
            "min_height": null,
            "min_width": null,
            "object_fit": null,
            "object_position": null,
            "order": null,
            "overflow": null,
            "overflow_x": null,
            "overflow_y": null,
            "padding": null,
            "right": null,
            "top": null,
            "visibility": null,
            "width": null
          }
        },
        "d9ec86fbdda5455ab46aa17276b8c3fc": {
          "model_module": "@jupyter-widgets/controls",
          "model_name": "DescriptionStyleModel",
          "model_module_version": "1.5.0",
          "state": {
            "_model_module": "@jupyter-widgets/controls",
            "_model_module_version": "1.5.0",
            "_model_name": "DescriptionStyleModel",
            "_view_count": null,
            "_view_module": "@jupyter-widgets/base",
            "_view_module_version": "1.2.0",
            "_view_name": "StyleView",
            "description_width": ""
          }
        },
        "a1cea64ad1f141a1985f0142700d92e0": {
          "model_module": "@jupyter-widgets/base",
          "model_name": "LayoutModel",
          "model_module_version": "1.2.0",
          "state": {
            "_model_module": "@jupyter-widgets/base",
            "_model_module_version": "1.2.0",
            "_model_name": "LayoutModel",
            "_view_count": null,
            "_view_module": "@jupyter-widgets/base",
            "_view_module_version": "1.2.0",
            "_view_name": "LayoutView",
            "align_content": null,
            "align_items": null,
            "align_self": null,
            "border": null,
            "bottom": null,
            "display": null,
            "flex": null,
            "flex_flow": null,
            "grid_area": null,
            "grid_auto_columns": null,
            "grid_auto_flow": null,
            "grid_auto_rows": null,
            "grid_column": null,
            "grid_gap": null,
            "grid_row": null,
            "grid_template_areas": null,
            "grid_template_columns": null,
            "grid_template_rows": null,
            "height": null,
            "justify_content": null,
            "justify_items": null,
            "left": null,
            "margin": null,
            "max_height": null,
            "max_width": null,
            "min_height": null,
            "min_width": null,
            "object_fit": null,
            "object_position": null,
            "order": null,
            "overflow": null,
            "overflow_x": null,
            "overflow_y": null,
            "padding": null,
            "right": null,
            "top": null,
            "visibility": null,
            "width": null
          }
        },
        "f05b1e0a233e49e3a8db124b8ab9b235": {
          "model_module": "@jupyter-widgets/controls",
          "model_name": "ProgressStyleModel",
          "model_module_version": "1.5.0",
          "state": {
            "_model_module": "@jupyter-widgets/controls",
            "_model_module_version": "1.5.0",
            "_model_name": "ProgressStyleModel",
            "_view_count": null,
            "_view_module": "@jupyter-widgets/base",
            "_view_module_version": "1.2.0",
            "_view_name": "StyleView",
            "bar_color": null,
            "description_width": ""
          }
        },
        "8318c82362ef4596afaa03aa59239c28": {
          "model_module": "@jupyter-widgets/base",
          "model_name": "LayoutModel",
          "model_module_version": "1.2.0",
          "state": {
            "_model_module": "@jupyter-widgets/base",
            "_model_module_version": "1.2.0",
            "_model_name": "LayoutModel",
            "_view_count": null,
            "_view_module": "@jupyter-widgets/base",
            "_view_module_version": "1.2.0",
            "_view_name": "LayoutView",
            "align_content": null,
            "align_items": null,
            "align_self": null,
            "border": null,
            "bottom": null,
            "display": null,
            "flex": null,
            "flex_flow": null,
            "grid_area": null,
            "grid_auto_columns": null,
            "grid_auto_flow": null,
            "grid_auto_rows": null,
            "grid_column": null,
            "grid_gap": null,
            "grid_row": null,
            "grid_template_areas": null,
            "grid_template_columns": null,
            "grid_template_rows": null,
            "height": null,
            "justify_content": null,
            "justify_items": null,
            "left": null,
            "margin": null,
            "max_height": null,
            "max_width": null,
            "min_height": null,
            "min_width": null,
            "object_fit": null,
            "object_position": null,
            "order": null,
            "overflow": null,
            "overflow_x": null,
            "overflow_y": null,
            "padding": null,
            "right": null,
            "top": null,
            "visibility": null,
            "width": null
          }
        },
        "b4123fe3b21c4b2aa0a7e0c7274b3667": {
          "model_module": "@jupyter-widgets/controls",
          "model_name": "DescriptionStyleModel",
          "model_module_version": "1.5.0",
          "state": {
            "_model_module": "@jupyter-widgets/controls",
            "_model_module_version": "1.5.0",
            "_model_name": "DescriptionStyleModel",
            "_view_count": null,
            "_view_module": "@jupyter-widgets/base",
            "_view_module_version": "1.2.0",
            "_view_name": "StyleView",
            "description_width": ""
          }
        },
        "e404fa082aea4340aa36fe988fa68d18": {
          "model_module": "@jupyter-widgets/controls",
          "model_name": "HBoxModel",
          "model_module_version": "1.5.0",
          "state": {
            "_dom_classes": [],
            "_model_module": "@jupyter-widgets/controls",
            "_model_module_version": "1.5.0",
            "_model_name": "HBoxModel",
            "_view_count": null,
            "_view_module": "@jupyter-widgets/controls",
            "_view_module_version": "1.5.0",
            "_view_name": "HBoxView",
            "box_style": "",
            "children": [
              "IPY_MODEL_7f9081bee0634303ba32a9760d4915f1",
              "IPY_MODEL_480a2c06bf56488289e4cd7894fa496f",
              "IPY_MODEL_174fb4af9d1747feba9665e3a8e51e60"
            ],
            "layout": "IPY_MODEL_927b066c140b4e5a85614d213f93a4d7"
          }
        },
        "7f9081bee0634303ba32a9760d4915f1": {
          "model_module": "@jupyter-widgets/controls",
          "model_name": "HTMLModel",
          "model_module_version": "1.5.0",
          "state": {
            "_dom_classes": [],
            "_model_module": "@jupyter-widgets/controls",
            "_model_module_version": "1.5.0",
            "_model_name": "HTMLModel",
            "_view_count": null,
            "_view_module": "@jupyter-widgets/controls",
            "_view_module_version": "1.5.0",
            "_view_name": "HTMLView",
            "description": "",
            "description_tooltip": null,
            "layout": "IPY_MODEL_840a4ba887c64e19a6962326eb2e5385",
            "placeholder": "​",
            "style": "IPY_MODEL_ebac2a6b997644439378daf92c38af60",
            "value": "config.json: 100%"
          }
        },
        "480a2c06bf56488289e4cd7894fa496f": {
          "model_module": "@jupyter-widgets/controls",
          "model_name": "FloatProgressModel",
          "model_module_version": "1.5.0",
          "state": {
            "_dom_classes": [],
            "_model_module": "@jupyter-widgets/controls",
            "_model_module_version": "1.5.0",
            "_model_name": "FloatProgressModel",
            "_view_count": null,
            "_view_module": "@jupyter-widgets/controls",
            "_view_module_version": "1.5.0",
            "_view_name": "ProgressView",
            "bar_style": "success",
            "description": "",
            "description_tooltip": null,
            "layout": "IPY_MODEL_85815a5f68d74f9db0b2fef64100ae9c",
            "max": 570,
            "min": 0,
            "orientation": "horizontal",
            "style": "IPY_MODEL_7304f805ff9e4400b1c8c24af10448a7",
            "value": 570
          }
        },
        "174fb4af9d1747feba9665e3a8e51e60": {
          "model_module": "@jupyter-widgets/controls",
          "model_name": "HTMLModel",
          "model_module_version": "1.5.0",
          "state": {
            "_dom_classes": [],
            "_model_module": "@jupyter-widgets/controls",
            "_model_module_version": "1.5.0",
            "_model_name": "HTMLModel",
            "_view_count": null,
            "_view_module": "@jupyter-widgets/controls",
            "_view_module_version": "1.5.0",
            "_view_name": "HTMLView",
            "description": "",
            "description_tooltip": null,
            "layout": "IPY_MODEL_7ab9d3fe1a37420994e38fbcf8a4d7ba",
            "placeholder": "​",
            "style": "IPY_MODEL_b1492e0d8bda44da8f86ab1097b37f8b",
            "value": " 570/570 [00:00&lt;00:00, 32.6kB/s]"
          }
        },
        "927b066c140b4e5a85614d213f93a4d7": {
          "model_module": "@jupyter-widgets/base",
          "model_name": "LayoutModel",
          "model_module_version": "1.2.0",
          "state": {
            "_model_module": "@jupyter-widgets/base",
            "_model_module_version": "1.2.0",
            "_model_name": "LayoutModel",
            "_view_count": null,
            "_view_module": "@jupyter-widgets/base",
            "_view_module_version": "1.2.0",
            "_view_name": "LayoutView",
            "align_content": null,
            "align_items": null,
            "align_self": null,
            "border": null,
            "bottom": null,
            "display": null,
            "flex": null,
            "flex_flow": null,
            "grid_area": null,
            "grid_auto_columns": null,
            "grid_auto_flow": null,
            "grid_auto_rows": null,
            "grid_column": null,
            "grid_gap": null,
            "grid_row": null,
            "grid_template_areas": null,
            "grid_template_columns": null,
            "grid_template_rows": null,
            "height": null,
            "justify_content": null,
            "justify_items": null,
            "left": null,
            "margin": null,
            "max_height": null,
            "max_width": null,
            "min_height": null,
            "min_width": null,
            "object_fit": null,
            "object_position": null,
            "order": null,
            "overflow": null,
            "overflow_x": null,
            "overflow_y": null,
            "padding": null,
            "right": null,
            "top": null,
            "visibility": null,
            "width": null
          }
        },
        "840a4ba887c64e19a6962326eb2e5385": {
          "model_module": "@jupyter-widgets/base",
          "model_name": "LayoutModel",
          "model_module_version": "1.2.0",
          "state": {
            "_model_module": "@jupyter-widgets/base",
            "_model_module_version": "1.2.0",
            "_model_name": "LayoutModel",
            "_view_count": null,
            "_view_module": "@jupyter-widgets/base",
            "_view_module_version": "1.2.0",
            "_view_name": "LayoutView",
            "align_content": null,
            "align_items": null,
            "align_self": null,
            "border": null,
            "bottom": null,
            "display": null,
            "flex": null,
            "flex_flow": null,
            "grid_area": null,
            "grid_auto_columns": null,
            "grid_auto_flow": null,
            "grid_auto_rows": null,
            "grid_column": null,
            "grid_gap": null,
            "grid_row": null,
            "grid_template_areas": null,
            "grid_template_columns": null,
            "grid_template_rows": null,
            "height": null,
            "justify_content": null,
            "justify_items": null,
            "left": null,
            "margin": null,
            "max_height": null,
            "max_width": null,
            "min_height": null,
            "min_width": null,
            "object_fit": null,
            "object_position": null,
            "order": null,
            "overflow": null,
            "overflow_x": null,
            "overflow_y": null,
            "padding": null,
            "right": null,
            "top": null,
            "visibility": null,
            "width": null
          }
        },
        "ebac2a6b997644439378daf92c38af60": {
          "model_module": "@jupyter-widgets/controls",
          "model_name": "DescriptionStyleModel",
          "model_module_version": "1.5.0",
          "state": {
            "_model_module": "@jupyter-widgets/controls",
            "_model_module_version": "1.5.0",
            "_model_name": "DescriptionStyleModel",
            "_view_count": null,
            "_view_module": "@jupyter-widgets/base",
            "_view_module_version": "1.2.0",
            "_view_name": "StyleView",
            "description_width": ""
          }
        },
        "85815a5f68d74f9db0b2fef64100ae9c": {
          "model_module": "@jupyter-widgets/base",
          "model_name": "LayoutModel",
          "model_module_version": "1.2.0",
          "state": {
            "_model_module": "@jupyter-widgets/base",
            "_model_module_version": "1.2.0",
            "_model_name": "LayoutModel",
            "_view_count": null,
            "_view_module": "@jupyter-widgets/base",
            "_view_module_version": "1.2.0",
            "_view_name": "LayoutView",
            "align_content": null,
            "align_items": null,
            "align_self": null,
            "border": null,
            "bottom": null,
            "display": null,
            "flex": null,
            "flex_flow": null,
            "grid_area": null,
            "grid_auto_columns": null,
            "grid_auto_flow": null,
            "grid_auto_rows": null,
            "grid_column": null,
            "grid_gap": null,
            "grid_row": null,
            "grid_template_areas": null,
            "grid_template_columns": null,
            "grid_template_rows": null,
            "height": null,
            "justify_content": null,
            "justify_items": null,
            "left": null,
            "margin": null,
            "max_height": null,
            "max_width": null,
            "min_height": null,
            "min_width": null,
            "object_fit": null,
            "object_position": null,
            "order": null,
            "overflow": null,
            "overflow_x": null,
            "overflow_y": null,
            "padding": null,
            "right": null,
            "top": null,
            "visibility": null,
            "width": null
          }
        },
        "7304f805ff9e4400b1c8c24af10448a7": {
          "model_module": "@jupyter-widgets/controls",
          "model_name": "ProgressStyleModel",
          "model_module_version": "1.5.0",
          "state": {
            "_model_module": "@jupyter-widgets/controls",
            "_model_module_version": "1.5.0",
            "_model_name": "ProgressStyleModel",
            "_view_count": null,
            "_view_module": "@jupyter-widgets/base",
            "_view_module_version": "1.2.0",
            "_view_name": "StyleView",
            "bar_color": null,
            "description_width": ""
          }
        },
        "7ab9d3fe1a37420994e38fbcf8a4d7ba": {
          "model_module": "@jupyter-widgets/base",
          "model_name": "LayoutModel",
          "model_module_version": "1.2.0",
          "state": {
            "_model_module": "@jupyter-widgets/base",
            "_model_module_version": "1.2.0",
            "_model_name": "LayoutModel",
            "_view_count": null,
            "_view_module": "@jupyter-widgets/base",
            "_view_module_version": "1.2.0",
            "_view_name": "LayoutView",
            "align_content": null,
            "align_items": null,
            "align_self": null,
            "border": null,
            "bottom": null,
            "display": null,
            "flex": null,
            "flex_flow": null,
            "grid_area": null,
            "grid_auto_columns": null,
            "grid_auto_flow": null,
            "grid_auto_rows": null,
            "grid_column": null,
            "grid_gap": null,
            "grid_row": null,
            "grid_template_areas": null,
            "grid_template_columns": null,
            "grid_template_rows": null,
            "height": null,
            "justify_content": null,
            "justify_items": null,
            "left": null,
            "margin": null,
            "max_height": null,
            "max_width": null,
            "min_height": null,
            "min_width": null,
            "object_fit": null,
            "object_position": null,
            "order": null,
            "overflow": null,
            "overflow_x": null,
            "overflow_y": null,
            "padding": null,
            "right": null,
            "top": null,
            "visibility": null,
            "width": null
          }
        },
        "b1492e0d8bda44da8f86ab1097b37f8b": {
          "model_module": "@jupyter-widgets/controls",
          "model_name": "DescriptionStyleModel",
          "model_module_version": "1.5.0",
          "state": {
            "_model_module": "@jupyter-widgets/controls",
            "_model_module_version": "1.5.0",
            "_model_name": "DescriptionStyleModel",
            "_view_count": null,
            "_view_module": "@jupyter-widgets/base",
            "_view_module_version": "1.2.0",
            "_view_name": "StyleView",
            "description_width": ""
          }
        },
        "6757dbf307ad4960a831549e12e0dc35": {
          "model_module": "@jupyter-widgets/controls",
          "model_name": "HBoxModel",
          "model_module_version": "1.5.0",
          "state": {
            "_dom_classes": [],
            "_model_module": "@jupyter-widgets/controls",
            "_model_module_version": "1.5.0",
            "_model_name": "HBoxModel",
            "_view_count": null,
            "_view_module": "@jupyter-widgets/controls",
            "_view_module_version": "1.5.0",
            "_view_name": "HBoxView",
            "box_style": "",
            "children": [
              "IPY_MODEL_07dddc2740614ceca4d51b3fec76148c",
              "IPY_MODEL_db94a5ab33d846c5aa4566d41ade126b",
              "IPY_MODEL_623d34155df249e8a929ca2d9b369fff"
            ],
            "layout": "IPY_MODEL_3bccf99db92b4af2875f1d98c6c816d2"
          }
        },
        "07dddc2740614ceca4d51b3fec76148c": {
          "model_module": "@jupyter-widgets/controls",
          "model_name": "HTMLModel",
          "model_module_version": "1.5.0",
          "state": {
            "_dom_classes": [],
            "_model_module": "@jupyter-widgets/controls",
            "_model_module_version": "1.5.0",
            "_model_name": "HTMLModel",
            "_view_count": null,
            "_view_module": "@jupyter-widgets/controls",
            "_view_module_version": "1.5.0",
            "_view_name": "HTMLView",
            "description": "",
            "description_tooltip": null,
            "layout": "IPY_MODEL_f0d8834aa1be4610af2b2ceb11b26ee7",
            "placeholder": "​",
            "style": "IPY_MODEL_333fa23b7faa4229ac70c4c48981dc55",
            "value": "model.safetensors: 100%"
          }
        },
        "db94a5ab33d846c5aa4566d41ade126b": {
          "model_module": "@jupyter-widgets/controls",
          "model_name": "FloatProgressModel",
          "model_module_version": "1.5.0",
          "state": {
            "_dom_classes": [],
            "_model_module": "@jupyter-widgets/controls",
            "_model_module_version": "1.5.0",
            "_model_name": "FloatProgressModel",
            "_view_count": null,
            "_view_module": "@jupyter-widgets/controls",
            "_view_module_version": "1.5.0",
            "_view_name": "ProgressView",
            "bar_style": "success",
            "description": "",
            "description_tooltip": null,
            "layout": "IPY_MODEL_befd67223314418088d517cfb29f8bb6",
            "max": 440449768,
            "min": 0,
            "orientation": "horizontal",
            "style": "IPY_MODEL_34aa18ef48d040c58ba460f95d6d3c0c",
            "value": 440449768
          }
        },
        "623d34155df249e8a929ca2d9b369fff": {
          "model_module": "@jupyter-widgets/controls",
          "model_name": "HTMLModel",
          "model_module_version": "1.5.0",
          "state": {
            "_dom_classes": [],
            "_model_module": "@jupyter-widgets/controls",
            "_model_module_version": "1.5.0",
            "_model_name": "HTMLModel",
            "_view_count": null,
            "_view_module": "@jupyter-widgets/controls",
            "_view_module_version": "1.5.0",
            "_view_name": "HTMLView",
            "description": "",
            "description_tooltip": null,
            "layout": "IPY_MODEL_fb78d98a552e4a9b8df82a0069be18dd",
            "placeholder": "​",
            "style": "IPY_MODEL_46985da046314b709eafe9d1091d70cd",
            "value": " 440M/440M [00:04&lt;00:00, 98.7MB/s]"
          }
        },
        "3bccf99db92b4af2875f1d98c6c816d2": {
          "model_module": "@jupyter-widgets/base",
          "model_name": "LayoutModel",
          "model_module_version": "1.2.0",
          "state": {
            "_model_module": "@jupyter-widgets/base",
            "_model_module_version": "1.2.0",
            "_model_name": "LayoutModel",
            "_view_count": null,
            "_view_module": "@jupyter-widgets/base",
            "_view_module_version": "1.2.0",
            "_view_name": "LayoutView",
            "align_content": null,
            "align_items": null,
            "align_self": null,
            "border": null,
            "bottom": null,
            "display": null,
            "flex": null,
            "flex_flow": null,
            "grid_area": null,
            "grid_auto_columns": null,
            "grid_auto_flow": null,
            "grid_auto_rows": null,
            "grid_column": null,
            "grid_gap": null,
            "grid_row": null,
            "grid_template_areas": null,
            "grid_template_columns": null,
            "grid_template_rows": null,
            "height": null,
            "justify_content": null,
            "justify_items": null,
            "left": null,
            "margin": null,
            "max_height": null,
            "max_width": null,
            "min_height": null,
            "min_width": null,
            "object_fit": null,
            "object_position": null,
            "order": null,
            "overflow": null,
            "overflow_x": null,
            "overflow_y": null,
            "padding": null,
            "right": null,
            "top": null,
            "visibility": null,
            "width": null
          }
        },
        "f0d8834aa1be4610af2b2ceb11b26ee7": {
          "model_module": "@jupyter-widgets/base",
          "model_name": "LayoutModel",
          "model_module_version": "1.2.0",
          "state": {
            "_model_module": "@jupyter-widgets/base",
            "_model_module_version": "1.2.0",
            "_model_name": "LayoutModel",
            "_view_count": null,
            "_view_module": "@jupyter-widgets/base",
            "_view_module_version": "1.2.0",
            "_view_name": "LayoutView",
            "align_content": null,
            "align_items": null,
            "align_self": null,
            "border": null,
            "bottom": null,
            "display": null,
            "flex": null,
            "flex_flow": null,
            "grid_area": null,
            "grid_auto_columns": null,
            "grid_auto_flow": null,
            "grid_auto_rows": null,
            "grid_column": null,
            "grid_gap": null,
            "grid_row": null,
            "grid_template_areas": null,
            "grid_template_columns": null,
            "grid_template_rows": null,
            "height": null,
            "justify_content": null,
            "justify_items": null,
            "left": null,
            "margin": null,
            "max_height": null,
            "max_width": null,
            "min_height": null,
            "min_width": null,
            "object_fit": null,
            "object_position": null,
            "order": null,
            "overflow": null,
            "overflow_x": null,
            "overflow_y": null,
            "padding": null,
            "right": null,
            "top": null,
            "visibility": null,
            "width": null
          }
        },
        "333fa23b7faa4229ac70c4c48981dc55": {
          "model_module": "@jupyter-widgets/controls",
          "model_name": "DescriptionStyleModel",
          "model_module_version": "1.5.0",
          "state": {
            "_model_module": "@jupyter-widgets/controls",
            "_model_module_version": "1.5.0",
            "_model_name": "DescriptionStyleModel",
            "_view_count": null,
            "_view_module": "@jupyter-widgets/base",
            "_view_module_version": "1.2.0",
            "_view_name": "StyleView",
            "description_width": ""
          }
        },
        "befd67223314418088d517cfb29f8bb6": {
          "model_module": "@jupyter-widgets/base",
          "model_name": "LayoutModel",
          "model_module_version": "1.2.0",
          "state": {
            "_model_module": "@jupyter-widgets/base",
            "_model_module_version": "1.2.0",
            "_model_name": "LayoutModel",
            "_view_count": null,
            "_view_module": "@jupyter-widgets/base",
            "_view_module_version": "1.2.0",
            "_view_name": "LayoutView",
            "align_content": null,
            "align_items": null,
            "align_self": null,
            "border": null,
            "bottom": null,
            "display": null,
            "flex": null,
            "flex_flow": null,
            "grid_area": null,
            "grid_auto_columns": null,
            "grid_auto_flow": null,
            "grid_auto_rows": null,
            "grid_column": null,
            "grid_gap": null,
            "grid_row": null,
            "grid_template_areas": null,
            "grid_template_columns": null,
            "grid_template_rows": null,
            "height": null,
            "justify_content": null,
            "justify_items": null,
            "left": null,
            "margin": null,
            "max_height": null,
            "max_width": null,
            "min_height": null,
            "min_width": null,
            "object_fit": null,
            "object_position": null,
            "order": null,
            "overflow": null,
            "overflow_x": null,
            "overflow_y": null,
            "padding": null,
            "right": null,
            "top": null,
            "visibility": null,
            "width": null
          }
        },
        "34aa18ef48d040c58ba460f95d6d3c0c": {
          "model_module": "@jupyter-widgets/controls",
          "model_name": "ProgressStyleModel",
          "model_module_version": "1.5.0",
          "state": {
            "_model_module": "@jupyter-widgets/controls",
            "_model_module_version": "1.5.0",
            "_model_name": "ProgressStyleModel",
            "_view_count": null,
            "_view_module": "@jupyter-widgets/base",
            "_view_module_version": "1.2.0",
            "_view_name": "StyleView",
            "bar_color": null,
            "description_width": ""
          }
        },
        "fb78d98a552e4a9b8df82a0069be18dd": {
          "model_module": "@jupyter-widgets/base",
          "model_name": "LayoutModel",
          "model_module_version": "1.2.0",
          "state": {
            "_model_module": "@jupyter-widgets/base",
            "_model_module_version": "1.2.0",
            "_model_name": "LayoutModel",
            "_view_count": null,
            "_view_module": "@jupyter-widgets/base",
            "_view_module_version": "1.2.0",
            "_view_name": "LayoutView",
            "align_content": null,
            "align_items": null,
            "align_self": null,
            "border": null,
            "bottom": null,
            "display": null,
            "flex": null,
            "flex_flow": null,
            "grid_area": null,
            "grid_auto_columns": null,
            "grid_auto_flow": null,
            "grid_auto_rows": null,
            "grid_column": null,
            "grid_gap": null,
            "grid_row": null,
            "grid_template_areas": null,
            "grid_template_columns": null,
            "grid_template_rows": null,
            "height": null,
            "justify_content": null,
            "justify_items": null,
            "left": null,
            "margin": null,
            "max_height": null,
            "max_width": null,
            "min_height": null,
            "min_width": null,
            "object_fit": null,
            "object_position": null,
            "order": null,
            "overflow": null,
            "overflow_x": null,
            "overflow_y": null,
            "padding": null,
            "right": null,
            "top": null,
            "visibility": null,
            "width": null
          }
        },
        "46985da046314b709eafe9d1091d70cd": {
          "model_module": "@jupyter-widgets/controls",
          "model_name": "DescriptionStyleModel",
          "model_module_version": "1.5.0",
          "state": {
            "_model_module": "@jupyter-widgets/controls",
            "_model_module_version": "1.5.0",
            "_model_name": "DescriptionStyleModel",
            "_view_count": null,
            "_view_module": "@jupyter-widgets/base",
            "_view_module_version": "1.2.0",
            "_view_name": "StyleView",
            "description_width": ""
          }
        }
      }
    }
  },
  "nbformat_minor": 0,
  "nbformat": 4,
  "cells": [
    {
      "cell_type": "code",
      "source": [
        "# file management\n",
        "import sys\n",
        "import shutil\n",
        "import urllib\n",
        "import tarfile\n",
        "import zipfile\n",
        "from pathlib import Path\n",
        "from copy import deepcopy\n",
        "import pickle\n",
        "\n",
        "import os\n",
        "\n",
        "# dataframe management\n",
        "import pandas as pd\n",
        "\n",
        "# data manipulation\n",
        "import numpy as np\n",
        "\n",
        "# for readability\n",
        "from typing import Iterable\n",
        "from tqdm.notebook import tqdm, tnrange\n",
        "\n",
        "\n",
        "import transformers\n",
        "import torch\n",
        "from torch.utils.data import Dataset, DataLoader, RandomSampler, SequentialSampler\n",
        "from transformers import BertTokenizer, BertModel, BertConfig\n",
        "from sklearn import metrics\n",
        "from sklearn.model_selection import train_test_split"
      ],
      "metadata": {
        "id": "qeOB7p0u8-7R",
        "execution": {
          "iopub.status.busy": "2024-02-08T00:34:17.562869Z",
          "iopub.execute_input": "2024-02-08T00:34:17.563309Z",
          "iopub.status.idle": "2024-02-08T00:34:17.570091Z",
          "shell.execute_reply.started": "2024-02-08T00:34:17.563266Z",
          "shell.execute_reply": "2024-02-08T00:34:17.569205Z"
        },
        "trusted": true
      },
      "execution_count": null,
      "outputs": []
    },
    {
      "cell_type": "code",
      "source": [
        "class DownloadProgressBar(tqdm):\n",
        "    def update_to(self, b=1, bsize=1, tsize=None):\n",
        "        if tsize is not None:\n",
        "            self.total = tsize\n",
        "        self.update(b * bsize - self.n)\n",
        "\n",
        "def download_url(download_path: Path, url: str):\n",
        "    with DownloadProgressBar(unit='B', unit_scale=True,\n",
        "                             miniters=1, desc=url.split('/')[-1]) as t:\n",
        "        urllib.request.urlretrieve(url, filename=download_path, reporthook=t.update_to)\n",
        "\n",
        "\n",
        "def download_dataset(download_path: Path, url: str):\n",
        "    print(\"Downloading dataset...\")\n",
        "    download_url(url=url, download_path=download_path)\n",
        "    print(\"Download complete!\")\n",
        "\n",
        "def extract_dataset(download_path: Path, extract_path: Path, mode=\"tar\"):\n",
        "    print(\"Extracting dataset... (it may take a while...)\")\n",
        "    if mode == \"tar\":\n",
        "      with tarfile.open(download_path) as loaded_tar:\n",
        "        loaded_tar.extractall(extract_path)\n",
        "    elif mode == \"zip\":\n",
        "      with zipfile.ZipFile(download_path, 'r') as zip_ref:\n",
        "        zip_ref.extractall(extract_path)\n",
        "\n",
        "    print(\"Extraction completed!\")"
      ],
      "metadata": {
        "id": "qzNTq9ye9Rkn",
        "execution": {
          "iopub.status.busy": "2024-02-08T00:34:22.246397Z",
          "iopub.execute_input": "2024-02-08T00:34:22.247098Z",
          "iopub.status.idle": "2024-02-08T00:34:22.257418Z",
          "shell.execute_reply.started": "2024-02-08T00:34:22.247065Z",
          "shell.execute_reply": "2024-02-08T00:34:22.256208Z"
        },
        "trusted": true
      },
      "execution_count": null,
      "outputs": []
    },
    {
      "cell_type": "code",
      "source": [
        "train_url = \"https://drive.usercontent.google.com/download?id=1wVNU2XvvhqjaGXZM-JLJwOt97gt4g9j2&export=download&authuser=0&confirm=t&uuid=9004532d-1162-47b2-985c-492039597222&at=APZUnTWm8D1ZM5_aa68vV6nRf9FA:1705400593770\"\n",
        "train_dataset_name = \"EFR_train_dataset.json\"\n",
        "eval_url = \"https://drive.usercontent.google.com/download?id=1wOgwT7Y9C3e4XIwecodTeO1acrbyIwkm&export=download&authuser=0&confirm=t&uuid=e4720599-94e5-4131-901b-702ca969911b&at=APZUnTWVa93R-4Dj4LTvBIIwODRr:1705754234489\"\n",
        "eval_dataset_name = \"EFR_eval_dataset.json\"\n",
        "test_url = \"https://drive.usercontent.google.com/download?id=1iS3Gjyi30e4gu7dRGSY5beOG4KFAB9E-&export=download&authuser=0&confirm=t&uuid=41eabfc2-eb88-47f2-86ae-38c31ef764a9&at=APZUnTX1AwYtJ_oyDVv7G2Lx34r1:1705754302262\"\n",
        "test_dataset_name = \"EFR_test_dataset.json\"\n",
        "\n",
        "print(f\"Current work directory: {Path.cwd()}\")\n",
        "dataset_folder = Path.cwd().joinpath(\"Datasets\")\n",
        "\n",
        "if not dataset_folder.exists():\n",
        "    dataset_folder.mkdir(parents=True)\n",
        "\n",
        "train_dataset_json_path = dataset_folder.joinpath(train_dataset_name)\n",
        "eval_dataset_json_path = dataset_folder.joinpath(eval_dataset_name)\n",
        "test_dataset_json_path = dataset_folder.joinpath(test_dataset_name)\n",
        "\n",
        "if not train_dataset_json_path.exists():\n",
        "    download_dataset(train_dataset_json_path, train_url)\n",
        "if not eval_dataset_json_path.exists():\n",
        "    download_dataset(eval_dataset_json_path, eval_url)\n",
        "if not test_dataset_json_path.exists():\n",
        "    download_dataset(test_dataset_json_path, test_url)"
      ],
      "metadata": {
        "colab": {
          "base_uri": "https://localhost:8080/",
          "referenced_widgets": [
            "e1b6868b1b3d492b9779307c947d8119",
            "a3b5fefee2154d81a922542b8ebbb732",
            "19883166de5b42ddb2d2cf6dc940e465",
            "95167efd403a449c85e7900a1a2bfdb2",
            "004471fc236240c6babdb4b78778e505",
            "b0f21e0331e14863a86afe8479d22d12",
            "5f4f102badbd4177bdd88f8844a16690",
            "215ef4bcf1524d02807288dfc8b4d3cf",
            "21bbc1ec094c4ab6a3719c97deeb67e1",
            "2c9fb9125bf5440289e762f2e5e25d47",
            "6286bef0e37d4ce0a9896c70228360de",
            "1c990fa809f64e41b948f2ea17c258bf",
            "2ad314001c114fbaad4e3c9831134c53",
            "cf97b74e8674431f8c6651a674b1d40b",
            "3200d795bb6a420cb8d0de08a8330406",
            "dd61626e2d2f47d786b74f862906c1df",
            "69937a7edb0a45deaa8690bd0b9a6465",
            "100705f9003b4340a03c7914473f0374",
            "78ff9a8ab8114004956c0f7d80848f32",
            "bb017a3d8cce44f4a577c68fbe5c1b49",
            "2464de278fb9478386245a04d9498166",
            "6cabb8c238f24fc1b7662d272a085667",
            "6a5cbe7f78014e26bc9b987ef21db5d1",
            "cca6d5b9954a465a90a0239ac370745e",
            "b16562f15806446f94a83ae1bc3c5126",
            "d6c7e84ad01a4dc8b1b3a4448c628ce6",
            "d74beda9871649019c9901f2f64defc1",
            "00352c5beea842379e9f0370a9e88741",
            "707bbc356c2445e38cc67e39692c2694",
            "f1b8229d7461430d9855c85cfe68d27e",
            "9e1a9c8e91274612ab1c3bd889e29ea9",
            "f8dc3ace80f443ebb1bb2ff7c4fb4fd0",
            "21d11f021a3f422cbba145e404ec4c25"
          ],
          "height": 322
        },
        "id": "M162Dn7e9BuK",
        "outputId": "7d610b7f-6b3f-4e33-c8fe-3a0dc65eaf00",
        "execution": {
          "iopub.status.busy": "2024-02-08T00:34:23.563500Z",
          "iopub.execute_input": "2024-02-08T00:34:23.564402Z",
          "iopub.status.idle": "2024-02-08T00:34:26.940705Z",
          "shell.execute_reply.started": "2024-02-08T00:34:23.564366Z",
          "shell.execute_reply": "2024-02-08T00:34:26.939708Z"
        },
        "trusted": true
      },
      "execution_count": null,
      "outputs": [
        {
          "output_type": "stream",
          "name": "stdout",
          "text": [
            "Current work directory: /content\n",
            "Downloading dataset...\n"
          ]
        },
        {
          "output_type": "display_data",
          "data": {
            "text/plain": [
              "download?id=1wVNU2XvvhqjaGXZM-JLJwOt97gt4g9j2&export=download&authuser=0&confirm=t&uuid=9004532d-1162-47b2-985…"
            ],
            "application/vnd.jupyter.widget-view+json": {
              "version_major": 2,
              "version_minor": 0,
              "model_id": "e1b6868b1b3d492b9779307c947d8119"
            }
          },
          "metadata": {}
        },
        {
          "output_type": "stream",
          "name": "stdout",
          "text": [
            "Download complete!\n",
            "Downloading dataset...\n"
          ]
        },
        {
          "output_type": "display_data",
          "data": {
            "text/plain": [
              "download?id=1wOgwT7Y9C3e4XIwecodTeO1acrbyIwkm&export=download&authuser=0&confirm=t&uuid=e4720599-94e5-4131-901…"
            ],
            "application/vnd.jupyter.widget-view+json": {
              "version_major": 2,
              "version_minor": 0,
              "model_id": "1c990fa809f64e41b948f2ea17c258bf"
            }
          },
          "metadata": {}
        },
        {
          "output_type": "stream",
          "name": "stdout",
          "text": [
            "Download complete!\n",
            "Downloading dataset...\n"
          ]
        },
        {
          "output_type": "display_data",
          "data": {
            "text/plain": [
              "download?id=1iS3Gjyi30e4gu7dRGSY5beOG4KFAB9E-&export=download&authuser=0&confirm=t&uuid=41eabfc2-eb88-47f2-86a…"
            ],
            "application/vnd.jupyter.widget-view+json": {
              "version_major": 2,
              "version_minor": 0,
              "model_id": "6a5cbe7f78014e26bc9b987ef21db5d1"
            }
          },
          "metadata": {}
        },
        {
          "output_type": "stream",
          "name": "stdout",
          "text": [
            "Download complete!\n"
          ]
        }
      ]
    },
    {
      "cell_type": "code",
      "source": [
        "global_df = pd.read_json(train_dataset_json_path)"
      ],
      "metadata": {
        "id": "bdB6ele89MqA",
        "execution": {
          "iopub.status.busy": "2024-02-08T00:34:26.942295Z",
          "iopub.execute_input": "2024-02-08T00:34:26.942607Z",
          "iopub.status.idle": "2024-02-08T00:34:27.052097Z",
          "shell.execute_reply.started": "2024-02-08T00:34:26.942579Z",
          "shell.execute_reply": "2024-02-08T00:34:27.051045Z"
        },
        "trusted": true
      },
      "execution_count": null,
      "outputs": []
    },
    {
      "cell_type": "code",
      "source": [
        "# Replaces NaN values by 0 in lists of given row\n",
        "def remove_nan(row):\n",
        "    return [0 if pd.isna(x) else x for x in row]\n",
        "\n",
        "# Checks that there are no NaN values in lists of given row\n",
        "def nan_free(column):\n",
        "    return all(all(pd.notna(x) for x in row) for row in column)\n",
        "\n",
        "global_df['triggers'] = global_df['triggers'].apply(remove_nan)\n",
        "nan_free(global_df['triggers'])"
      ],
      "metadata": {
        "id": "v_Fpw6ok9ng6",
        "colab": {
          "base_uri": "https://localhost:8080/"
        },
        "outputId": "524214bf-dfba-44a2-baed-ff3063efd2ff",
        "execution": {
          "iopub.status.busy": "2024-02-08T00:34:28.901757Z",
          "iopub.execute_input": "2024-02-08T00:34:28.902407Z",
          "iopub.status.idle": "2024-02-08T00:34:28.977829Z",
          "shell.execute_reply.started": "2024-02-08T00:34:28.902370Z",
          "shell.execute_reply": "2024-02-08T00:34:28.976898Z"
        },
        "trusted": true
      },
      "execution_count": null,
      "outputs": [
        {
          "output_type": "execute_result",
          "data": {
            "text/plain": [
              "True"
            ]
          },
          "metadata": {},
          "execution_count": 5
        }
      ]
    },
    {
      "cell_type": "code",
      "source": [
        "def transform_df(df):\n",
        "    # Concatenate each utterance to their respective emotion\n",
        "    df['concat_utterance'] = df.apply(lambda row: [a + \" \" + b for a, b in zip(row['utterances'], row['emotions'])], axis=1)\n",
        "\n",
        "    # Create a new identical row for each element in the list of trigger target\n",
        "    df = global_df.explode('triggers', ignore_index=True)\n",
        "\n",
        "    # Create a new column to keep index of each utterance's trigger\n",
        "    df['utterance_index'] = df.groupby('episode').cumcount() + 1\n",
        "\n",
        "    # Concatenate a pointer \"TRIGGER\" at the end of the correct utterance\n",
        "    df['concat_utterance'] = df.apply(lambda row: [word + ' TRIGGER' if i == row['utterance_index']-1 else word for i, word in enumerate(row['concat_utterance'])], axis=1)\n",
        "\n",
        "    return df[['episode', 'concat_utterance', 'triggers', 'utterance_index']]\n",
        "\n",
        "df = transform_df(global_df)"
      ],
      "metadata": {
        "id": "f9dPLG64-hT6",
        "execution": {
          "iopub.status.busy": "2024-02-08T00:34:30.236860Z",
          "iopub.execute_input": "2024-02-08T00:34:30.237598Z",
          "iopub.status.idle": "2024-02-08T00:34:32.863853Z",
          "shell.execute_reply.started": "2024-02-08T00:34:30.237562Z",
          "shell.execute_reply": "2024-02-08T00:34:32.862859Z"
        },
        "trusted": true
      },
      "execution_count": null,
      "outputs": []
    },
    {
      "cell_type": "code",
      "source": [
        "df.head(10)"
      ],
      "metadata": {
        "colab": {
          "base_uri": "https://localhost:8080/",
          "height": 363
        },
        "id": "IWDTEPJC8T0B",
        "outputId": "5b37fb6d-5de5-4cb6-d883-af1fc7dfd69e",
        "execution": {
          "iopub.status.busy": "2024-02-08T00:34:32.865581Z",
          "iopub.execute_input": "2024-02-08T00:34:32.865878Z",
          "iopub.status.idle": "2024-02-08T00:34:32.888534Z",
          "shell.execute_reply.started": "2024-02-08T00:34:32.865851Z",
          "shell.execute_reply": "2024-02-08T00:34:32.887603Z"
        },
        "trusted": true
      },
      "execution_count": null,
      "outputs": [
        {
          "output_type": "execute_result",
          "data": {
            "text/plain": [
              "       episode                                   concat_utterance triggers  \\\n",
              "0  utterance_0  [also I was the point person on my company's t...      0.0   \n",
              "1  utterance_0  [also I was the point person on my company's t...      0.0   \n",
              "2  utterance_0  [also I was the point person on my company's t...      0.0   \n",
              "3  utterance_0  [also I was the point person on my company's t...      1.0   \n",
              "4  utterance_0  [also I was the point person on my company's t...      0.0   \n",
              "5  utterance_1  [also I was the point person on my company's t...      0.0   \n",
              "6  utterance_1  [also I was the point person on my company's t...      0.0   \n",
              "7  utterance_1  [also I was the point person on my company's t...      0.0   \n",
              "8  utterance_1  [also I was the point person on my company's t...      0.0   \n",
              "9  utterance_1  [also I was the point person on my company's t...      0.0   \n",
              "\n",
              "   utterance_index  \n",
              "0                1  \n",
              "1                2  \n",
              "2                3  \n",
              "3                4  \n",
              "4                5  \n",
              "5                1  \n",
              "6                2  \n",
              "7                3  \n",
              "8                4  \n",
              "9                5  "
            ],
            "text/html": [
              "\n",
              "  <div id=\"df-83405881-027f-4847-adac-5029a72fe173\" class=\"colab-df-container\">\n",
              "    <div>\n",
              "<style scoped>\n",
              "    .dataframe tbody tr th:only-of-type {\n",
              "        vertical-align: middle;\n",
              "    }\n",
              "\n",
              "    .dataframe tbody tr th {\n",
              "        vertical-align: top;\n",
              "    }\n",
              "\n",
              "    .dataframe thead th {\n",
              "        text-align: right;\n",
              "    }\n",
              "</style>\n",
              "<table border=\"1\" class=\"dataframe\">\n",
              "  <thead>\n",
              "    <tr style=\"text-align: right;\">\n",
              "      <th></th>\n",
              "      <th>episode</th>\n",
              "      <th>concat_utterance</th>\n",
              "      <th>triggers</th>\n",
              "      <th>utterance_index</th>\n",
              "    </tr>\n",
              "  </thead>\n",
              "  <tbody>\n",
              "    <tr>\n",
              "      <th>0</th>\n",
              "      <td>utterance_0</td>\n",
              "      <td>[also I was the point person on my company's t...</td>\n",
              "      <td>0.0</td>\n",
              "      <td>1</td>\n",
              "    </tr>\n",
              "    <tr>\n",
              "      <th>1</th>\n",
              "      <td>utterance_0</td>\n",
              "      <td>[also I was the point person on my company's t...</td>\n",
              "      <td>0.0</td>\n",
              "      <td>2</td>\n",
              "    </tr>\n",
              "    <tr>\n",
              "      <th>2</th>\n",
              "      <td>utterance_0</td>\n",
              "      <td>[also I was the point person on my company's t...</td>\n",
              "      <td>0.0</td>\n",
              "      <td>3</td>\n",
              "    </tr>\n",
              "    <tr>\n",
              "      <th>3</th>\n",
              "      <td>utterance_0</td>\n",
              "      <td>[also I was the point person on my company's t...</td>\n",
              "      <td>1.0</td>\n",
              "      <td>4</td>\n",
              "    </tr>\n",
              "    <tr>\n",
              "      <th>4</th>\n",
              "      <td>utterance_0</td>\n",
              "      <td>[also I was the point person on my company's t...</td>\n",
              "      <td>0.0</td>\n",
              "      <td>5</td>\n",
              "    </tr>\n",
              "    <tr>\n",
              "      <th>5</th>\n",
              "      <td>utterance_1</td>\n",
              "      <td>[also I was the point person on my company's t...</td>\n",
              "      <td>0.0</td>\n",
              "      <td>1</td>\n",
              "    </tr>\n",
              "    <tr>\n",
              "      <th>6</th>\n",
              "      <td>utterance_1</td>\n",
              "      <td>[also I was the point person on my company's t...</td>\n",
              "      <td>0.0</td>\n",
              "      <td>2</td>\n",
              "    </tr>\n",
              "    <tr>\n",
              "      <th>7</th>\n",
              "      <td>utterance_1</td>\n",
              "      <td>[also I was the point person on my company's t...</td>\n",
              "      <td>0.0</td>\n",
              "      <td>3</td>\n",
              "    </tr>\n",
              "    <tr>\n",
              "      <th>8</th>\n",
              "      <td>utterance_1</td>\n",
              "      <td>[also I was the point person on my company's t...</td>\n",
              "      <td>0.0</td>\n",
              "      <td>4</td>\n",
              "    </tr>\n",
              "    <tr>\n",
              "      <th>9</th>\n",
              "      <td>utterance_1</td>\n",
              "      <td>[also I was the point person on my company's t...</td>\n",
              "      <td>0.0</td>\n",
              "      <td>5</td>\n",
              "    </tr>\n",
              "  </tbody>\n",
              "</table>\n",
              "</div>\n",
              "    <div class=\"colab-df-buttons\">\n",
              "\n",
              "  <div class=\"colab-df-container\">\n",
              "    <button class=\"colab-df-convert\" onclick=\"convertToInteractive('df-83405881-027f-4847-adac-5029a72fe173')\"\n",
              "            title=\"Convert this dataframe to an interactive table.\"\n",
              "            style=\"display:none;\">\n",
              "\n",
              "  <svg xmlns=\"http://www.w3.org/2000/svg\" height=\"24px\" viewBox=\"0 -960 960 960\">\n",
              "    <path d=\"M120-120v-720h720v720H120Zm60-500h600v-160H180v160Zm220 220h160v-160H400v160Zm0 220h160v-160H400v160ZM180-400h160v-160H180v160Zm440 0h160v-160H620v160ZM180-180h160v-160H180v160Zm440 0h160v-160H620v160Z\"/>\n",
              "  </svg>\n",
              "    </button>\n",
              "\n",
              "  <style>\n",
              "    .colab-df-container {\n",
              "      display:flex;\n",
              "      gap: 12px;\n",
              "    }\n",
              "\n",
              "    .colab-df-convert {\n",
              "      background-color: #E8F0FE;\n",
              "      border: none;\n",
              "      border-radius: 50%;\n",
              "      cursor: pointer;\n",
              "      display: none;\n",
              "      fill: #1967D2;\n",
              "      height: 32px;\n",
              "      padding: 0 0 0 0;\n",
              "      width: 32px;\n",
              "    }\n",
              "\n",
              "    .colab-df-convert:hover {\n",
              "      background-color: #E2EBFA;\n",
              "      box-shadow: 0px 1px 2px rgba(60, 64, 67, 0.3), 0px 1px 3px 1px rgba(60, 64, 67, 0.15);\n",
              "      fill: #174EA6;\n",
              "    }\n",
              "\n",
              "    .colab-df-buttons div {\n",
              "      margin-bottom: 4px;\n",
              "    }\n",
              "\n",
              "    [theme=dark] .colab-df-convert {\n",
              "      background-color: #3B4455;\n",
              "      fill: #D2E3FC;\n",
              "    }\n",
              "\n",
              "    [theme=dark] .colab-df-convert:hover {\n",
              "      background-color: #434B5C;\n",
              "      box-shadow: 0px 1px 3px 1px rgba(0, 0, 0, 0.15);\n",
              "      filter: drop-shadow(0px 1px 2px rgba(0, 0, 0, 0.3));\n",
              "      fill: #FFFFFF;\n",
              "    }\n",
              "  </style>\n",
              "\n",
              "    <script>\n",
              "      const buttonEl =\n",
              "        document.querySelector('#df-83405881-027f-4847-adac-5029a72fe173 button.colab-df-convert');\n",
              "      buttonEl.style.display =\n",
              "        google.colab.kernel.accessAllowed ? 'block' : 'none';\n",
              "\n",
              "      async function convertToInteractive(key) {\n",
              "        const element = document.querySelector('#df-83405881-027f-4847-adac-5029a72fe173');\n",
              "        const dataTable =\n",
              "          await google.colab.kernel.invokeFunction('convertToInteractive',\n",
              "                                                    [key], {});\n",
              "        if (!dataTable) return;\n",
              "\n",
              "        const docLinkHtml = 'Like what you see? Visit the ' +\n",
              "          '<a target=\"_blank\" href=https://colab.research.google.com/notebooks/data_table.ipynb>data table notebook</a>'\n",
              "          + ' to learn more about interactive tables.';\n",
              "        element.innerHTML = '';\n",
              "        dataTable['output_type'] = 'display_data';\n",
              "        await google.colab.output.renderOutput(dataTable, element);\n",
              "        const docLink = document.createElement('div');\n",
              "        docLink.innerHTML = docLinkHtml;\n",
              "        element.appendChild(docLink);\n",
              "      }\n",
              "    </script>\n",
              "  </div>\n",
              "\n",
              "\n",
              "<div id=\"df-0da9999f-1be7-403c-8d4c-e5517982988e\">\n",
              "  <button class=\"colab-df-quickchart\" onclick=\"quickchart('df-0da9999f-1be7-403c-8d4c-e5517982988e')\"\n",
              "            title=\"Suggest charts\"\n",
              "            style=\"display:none;\">\n",
              "\n",
              "<svg xmlns=\"http://www.w3.org/2000/svg\" height=\"24px\"viewBox=\"0 0 24 24\"\n",
              "     width=\"24px\">\n",
              "    <g>\n",
              "        <path d=\"M19 3H5c-1.1 0-2 .9-2 2v14c0 1.1.9 2 2 2h14c1.1 0 2-.9 2-2V5c0-1.1-.9-2-2-2zM9 17H7v-7h2v7zm4 0h-2V7h2v10zm4 0h-2v-4h2v4z\"/>\n",
              "    </g>\n",
              "</svg>\n",
              "  </button>\n",
              "\n",
              "<style>\n",
              "  .colab-df-quickchart {\n",
              "      --bg-color: #E8F0FE;\n",
              "      --fill-color: #1967D2;\n",
              "      --hover-bg-color: #E2EBFA;\n",
              "      --hover-fill-color: #174EA6;\n",
              "      --disabled-fill-color: #AAA;\n",
              "      --disabled-bg-color: #DDD;\n",
              "  }\n",
              "\n",
              "  [theme=dark] .colab-df-quickchart {\n",
              "      --bg-color: #3B4455;\n",
              "      --fill-color: #D2E3FC;\n",
              "      --hover-bg-color: #434B5C;\n",
              "      --hover-fill-color: #FFFFFF;\n",
              "      --disabled-bg-color: #3B4455;\n",
              "      --disabled-fill-color: #666;\n",
              "  }\n",
              "\n",
              "  .colab-df-quickchart {\n",
              "    background-color: var(--bg-color);\n",
              "    border: none;\n",
              "    border-radius: 50%;\n",
              "    cursor: pointer;\n",
              "    display: none;\n",
              "    fill: var(--fill-color);\n",
              "    height: 32px;\n",
              "    padding: 0;\n",
              "    width: 32px;\n",
              "  }\n",
              "\n",
              "  .colab-df-quickchart:hover {\n",
              "    background-color: var(--hover-bg-color);\n",
              "    box-shadow: 0 1px 2px rgba(60, 64, 67, 0.3), 0 1px 3px 1px rgba(60, 64, 67, 0.15);\n",
              "    fill: var(--button-hover-fill-color);\n",
              "  }\n",
              "\n",
              "  .colab-df-quickchart-complete:disabled,\n",
              "  .colab-df-quickchart-complete:disabled:hover {\n",
              "    background-color: var(--disabled-bg-color);\n",
              "    fill: var(--disabled-fill-color);\n",
              "    box-shadow: none;\n",
              "  }\n",
              "\n",
              "  .colab-df-spinner {\n",
              "    border: 2px solid var(--fill-color);\n",
              "    border-color: transparent;\n",
              "    border-bottom-color: var(--fill-color);\n",
              "    animation:\n",
              "      spin 1s steps(1) infinite;\n",
              "  }\n",
              "\n",
              "  @keyframes spin {\n",
              "    0% {\n",
              "      border-color: transparent;\n",
              "      border-bottom-color: var(--fill-color);\n",
              "      border-left-color: var(--fill-color);\n",
              "    }\n",
              "    20% {\n",
              "      border-color: transparent;\n",
              "      border-left-color: var(--fill-color);\n",
              "      border-top-color: var(--fill-color);\n",
              "    }\n",
              "    30% {\n",
              "      border-color: transparent;\n",
              "      border-left-color: var(--fill-color);\n",
              "      border-top-color: var(--fill-color);\n",
              "      border-right-color: var(--fill-color);\n",
              "    }\n",
              "    40% {\n",
              "      border-color: transparent;\n",
              "      border-right-color: var(--fill-color);\n",
              "      border-top-color: var(--fill-color);\n",
              "    }\n",
              "    60% {\n",
              "      border-color: transparent;\n",
              "      border-right-color: var(--fill-color);\n",
              "    }\n",
              "    80% {\n",
              "      border-color: transparent;\n",
              "      border-right-color: var(--fill-color);\n",
              "      border-bottom-color: var(--fill-color);\n",
              "    }\n",
              "    90% {\n",
              "      border-color: transparent;\n",
              "      border-bottom-color: var(--fill-color);\n",
              "    }\n",
              "  }\n",
              "</style>\n",
              "\n",
              "  <script>\n",
              "    async function quickchart(key) {\n",
              "      const quickchartButtonEl =\n",
              "        document.querySelector('#' + key + ' button');\n",
              "      quickchartButtonEl.disabled = true;  // To prevent multiple clicks.\n",
              "      quickchartButtonEl.classList.add('colab-df-spinner');\n",
              "      try {\n",
              "        const charts = await google.colab.kernel.invokeFunction(\n",
              "            'suggestCharts', [key], {});\n",
              "      } catch (error) {\n",
              "        console.error('Error during call to suggestCharts:', error);\n",
              "      }\n",
              "      quickchartButtonEl.classList.remove('colab-df-spinner');\n",
              "      quickchartButtonEl.classList.add('colab-df-quickchart-complete');\n",
              "    }\n",
              "    (() => {\n",
              "      let quickchartButtonEl =\n",
              "        document.querySelector('#df-0da9999f-1be7-403c-8d4c-e5517982988e button');\n",
              "      quickchartButtonEl.style.display =\n",
              "        google.colab.kernel.accessAllowed ? 'block' : 'none';\n",
              "    })();\n",
              "  </script>\n",
              "</div>\n",
              "    </div>\n",
              "  </div>\n"
            ]
          },
          "metadata": {},
          "execution_count": 7
        }
      ]
    },
    {
      "cell_type": "code",
      "source": [
        "df['concat_utterance'][1]"
      ],
      "metadata": {
        "colab": {
          "base_uri": "https://localhost:8080/"
        },
        "id": "jYjIWb8H97e9",
        "outputId": "77379774-5721-4cb4-dab4-451319a16d91",
        "execution": {
          "iopub.status.busy": "2024-02-08T00:34:33.675228Z",
          "iopub.execute_input": "2024-02-08T00:34:33.675969Z",
          "iopub.status.idle": "2024-02-08T00:34:33.682479Z",
          "shell.execute_reply.started": "2024-02-08T00:34:33.675934Z",
          "shell.execute_reply": "2024-02-08T00:34:33.681465Z"
        },
        "trusted": true
      },
      "execution_count": null,
      "outputs": [
        {
          "output_type": "execute_result",
          "data": {
            "text/plain": [
              "[\"also I was the point person on my company's transition from the KL-5 to GR-6 system. neutral\",\n",
              " \"You must've had your hands full. neutral TRIGGER\",\n",
              " 'That I did. That I did. neutral',\n",
              " \"So let's talk a little bit about your duties. neutral\",\n",
              " 'My duties?  All right. surprise']"
            ]
          },
          "metadata": {},
          "execution_count": 8
        }
      ]
    },
    {
      "cell_type": "code",
      "source": [
        "# Assigns 80% of data to training set, without shuffling\n",
        "train_df, test_df = train_test_split(df, test_size=0.2, shuffle=False)\n",
        "\n",
        "# Assigns remaining 20% of data to test and validation set, without shuffling\n",
        "test_df, val_df = train_test_split(test_df, test_size=0.5, shuffle=False)"
      ],
      "metadata": {
        "id": "hbRa4w4HAwQm",
        "execution": {
          "iopub.status.busy": "2024-02-08T00:34:34.874964Z",
          "iopub.execute_input": "2024-02-08T00:34:34.875619Z",
          "iopub.status.idle": "2024-02-08T00:34:34.888484Z",
          "shell.execute_reply.started": "2024-02-08T00:34:34.875589Z",
          "shell.execute_reply": "2024-02-08T00:34:34.887441Z"
        },
        "trusted": true
      },
      "execution_count": null,
      "outputs": []
    },
    {
      "cell_type": "code",
      "source": [
        "print(len(train_df))\n",
        "print(len(test_df))\n",
        "print(len(val_df))"
      ],
      "metadata": {
        "colab": {
          "base_uri": "https://localhost:8080/"
        },
        "id": "EQ4QOjUnDp-R",
        "outputId": "ae13189c-72e0-435b-ce90-2a00178a9102",
        "execution": {
          "iopub.status.busy": "2024-02-08T00:34:35.582729Z",
          "iopub.execute_input": "2024-02-08T00:34:35.583550Z",
          "iopub.status.idle": "2024-02-08T00:34:35.588632Z",
          "shell.execute_reply.started": "2024-02-08T00:34:35.583515Z",
          "shell.execute_reply": "2024-02-08T00:34:35.587479Z"
        },
        "trusted": true
      },
      "execution_count": null,
      "outputs": [
        {
          "output_type": "stream",
          "name": "stdout",
          "text": [
            "28000\n",
            "3500\n",
            "3500\n"
          ]
        }
      ]
    },
    {
      "cell_type": "markdown",
      "source": [
        "## Dummy classifiers"
      ],
      "metadata": {
        "id": "DumE6JCCgtMY"
      }
    },
    {
      "cell_type": "markdown",
      "source": [
        "DummyClassifier makes predictions that ignore the input features. This classifier serves as a simple baseline to compare against other more complex classifiers."
      ],
      "metadata": {
        "id": "_AJL0XSegtgb"
      }
    },
    {
      "cell_type": "code",
      "source": [
        "from sklearn.dummy import DummyClassifier\n",
        "from sklearn.metrics import accuracy_score\n",
        "from sklearn.metrics import f1_score as calculate_f1_score"
      ],
      "metadata": {
        "id": "NVUQMiKJg5JJ"
      },
      "execution_count": null,
      "outputs": []
    },
    {
      "cell_type": "markdown",
      "source": [
        "Most frequent strategy"
      ],
      "metadata": {
        "id": "zFQkNFfjg89r"
      }
    },
    {
      "cell_type": "code",
      "source": [
        "train_df['triggers'].fillna(0, inplace=True)\n",
        "val_df['triggers'].fillna(0, inplace=True)\n",
        "train_df['triggers'] = train_df['triggers'].astype(int)\n",
        "val_df['triggers'] = val_df['triggers'].astype(int)\n",
        "dummy_clf = DummyClassifier(strategy=\"most_frequent\", random_state=42)\n",
        "dummy_clf.fit(train_df['concat_utterance'], train_df['triggers'])\n",
        "pred = dummy_clf.predict(val_df['concat_utterance'])\n",
        "acc = accuracy_score(val_df['triggers'], pred)\n",
        "f1_score_micro = calculate_f1_score(val_df['triggers'], pred, average='micro')\n",
        "f1_score_macro = calculate_f1_score(val_df['triggers'], pred, average='macro')\n",
        "f1_score_binary = calculate_f1_score(val_df['triggers'], pred)\n",
        "f1_score_per_class = calculate_f1_score(val_df['triggers'], pred, average=None)\n",
        "\n",
        "print(\"Accuracy:\", acc, )\n",
        "print(f\"F1 Score (Micro) = {f1_score_micro}\")\n",
        "print(f\"F1 Score (Macro) = {f1_score_macro}\")"
      ],
      "metadata": {
        "id": "daLrC1LMg7-H",
        "colab": {
          "base_uri": "https://localhost:8080/"
        },
        "outputId": "6e53284b-3055-4445-9eae-e1b51eaefc5b"
      },
      "execution_count": null,
      "outputs": [
        {
          "output_type": "stream",
          "name": "stdout",
          "text": [
            "Accuracy: 0.8562857142857143\n",
            "F1 Score (Micro) = 0.8562857142857143\n",
            "F1 Score (Macro) = 0.46128982607357244\n"
          ]
        }
      ]
    },
    {
      "cell_type": "markdown",
      "source": [
        "Uniform strategy"
      ],
      "metadata": {
        "id": "kIbtntnZhFRt"
      }
    },
    {
      "cell_type": "code",
      "source": [
        "train_df['triggers'].fillna(0, inplace=True)\n",
        "val_df['triggers'].fillna(0, inplace=True)\n",
        "train_df['triggers'] = train_df['triggers'].astype(int)\n",
        "val_df['triggers'] = val_df['triggers'].astype(int)\n",
        "dummy_clf = DummyClassifier(strategy='uniform', random_state=42)\n",
        "dummy_clf.fit(train_df['concat_utterance'], train_df['triggers'])\n",
        "pred = dummy_clf.predict(val_df['concat_utterance'])\n",
        "acc = accuracy_score(val_df['triggers'], pred)\n",
        "f1_score_micro = calculate_f1_score(val_df['triggers'], pred, average='micro')\n",
        "f1_score_macro = calculate_f1_score(val_df['triggers'], pred, average='macro')\n",
        "f1_score_binary = calculate_f1_score(val_df['triggers'], pred)\n",
        "f1_score_per_class = calculate_f1_score(val_df['triggers'], pred, average=None)\n",
        "\n",
        "print('Accuracy:', acc)\n",
        "print(f\"F1 Score (Micro) = {f1_score_micro}\")\n",
        "print(f\"F1 Score (Macro) = {f1_score_macro}\")"
      ],
      "metadata": {
        "id": "1gnezsUfhScZ",
        "colab": {
          "base_uri": "https://localhost:8080/"
        },
        "outputId": "7924f7a2-e117-4355-a62c-c6a96ec1549c"
      },
      "execution_count": null,
      "outputs": [
        {
          "output_type": "stream",
          "name": "stdout",
          "text": [
            "Accuracy: 0.5034285714285714\n",
            "F1 Score (Micro) = 0.5034285714285714\n",
            "F1 Score (Macro) = 0.4308304093567251\n"
          ]
        }
      ]
    },
    {
      "cell_type": "markdown",
      "source": [
        "## Model definition - Triggers"
      ],
      "metadata": {
        "id": "SW3oWalptqab"
      }
    },
    {
      "cell_type": "code",
      "source": [
        "# Defining some key variables that will be used later on in the training\n",
        "TRAIN_BATCH_SIZE = 8\n",
        "VALID_BATCH_SIZE = 8\n",
        "TEST_BATCH_SIZE = 8\n",
        "EPOCHS = 3\n",
        "LEARNING_RATE = 1e-05\n",
        "tokenizer = BertTokenizer.from_pretrained('bert-base-uncased')\n",
        "\n",
        "thresholds = {}"
      ],
      "metadata": {
        "id": "xlzb2oMaCHKc",
        "execution": {
          "iopub.status.busy": "2024-02-08T00:34:38.561968Z",
          "iopub.execute_input": "2024-02-08T00:34:38.562689Z",
          "iopub.status.idle": "2024-02-08T00:34:39.172905Z",
          "shell.execute_reply.started": "2024-02-08T00:34:38.562659Z",
          "shell.execute_reply": "2024-02-08T00:34:39.171908Z"
        },
        "trusted": true,
        "colab": {
          "referenced_widgets": [
            "10e9fdfd29d54b049fdfe86e00dead5b",
            "f98e61a5c7ed4a0a83392a9848f48736",
            "98766115878d48eaa44b04a8de2e0684",
            "2436c4fb3c9f4dc4b72244c4b148d470",
            "a381d2877aeb4d9e821c0d5e12ffb69a",
            "e6c4bee8c9194ffe9dfcb5c365b808bc",
            "3818072437f34ff2a97b3f8a098411be",
            "6f88eb3ab1434bad80866e71e5ddbfab",
            "84de03a7f9884b8fa28be1700e1f6354",
            "546044f32b8a4c9d91729dec6961ac4f",
            "1d453a23fb3b4c05b117847b837773e4",
            "1ab8d6dc1be7464ba259ff2e0ea33469",
            "34fd78ed2aea4b81b5870c8a42da2307",
            "f4bee6474ed24a5c93cd1d5bceec08a8",
            "a4a8b7fc6715491bac898bc249678999",
            "b67d541291cd42919f59915ea1f5ed03",
            "4548083cdd5c4f2e8d79ece658c381e7",
            "48e3118c6fe94ddf9ff30ac76949c906",
            "d9ec86fbdda5455ab46aa17276b8c3fc",
            "a1cea64ad1f141a1985f0142700d92e0",
            "f05b1e0a233e49e3a8db124b8ab9b235",
            "8318c82362ef4596afaa03aa59239c28",
            "b4123fe3b21c4b2aa0a7e0c7274b3667",
            "e404fa082aea4340aa36fe988fa68d18",
            "7f9081bee0634303ba32a9760d4915f1",
            "480a2c06bf56488289e4cd7894fa496f",
            "174fb4af9d1747feba9665e3a8e51e60",
            "927b066c140b4e5a85614d213f93a4d7",
            "840a4ba887c64e19a6962326eb2e5385",
            "ebac2a6b997644439378daf92c38af60",
            "85815a5f68d74f9db0b2fef64100ae9c",
            "7304f805ff9e4400b1c8c24af10448a7",
            "7ab9d3fe1a37420994e38fbcf8a4d7ba",
            "b1492e0d8bda44da8f86ab1097b37f8b"
          ],
          "base_uri": "https://localhost:8080/",
          "height": 131
        },
        "outputId": "13662533-0dbd-4da7-8af8-aee303ea1f23"
      },
      "execution_count": null,
      "outputs": [
        {
          "output_type": "display_data",
          "data": {
            "text/plain": [
              "tokenizer_config.json:   0%|          | 0.00/28.0 [00:00<?, ?B/s]"
            ],
            "application/vnd.jupyter.widget-view+json": {
              "version_major": 2,
              "version_minor": 0,
              "model_id": "10e9fdfd29d54b049fdfe86e00dead5b"
            }
          },
          "metadata": {}
        },
        {
          "output_type": "display_data",
          "data": {
            "text/plain": [
              "vocab.txt:   0%|          | 0.00/232k [00:00<?, ?B/s]"
            ],
            "application/vnd.jupyter.widget-view+json": {
              "version_major": 2,
              "version_minor": 0,
              "model_id": "f98e61a5c7ed4a0a83392a9848f48736"
            }
          },
          "metadata": {}
        },
        {
          "output_type": "display_data",
          "data": {
            "text/plain": [
              "tokenizer.json:   0%|          | 0.00/466k [00:00<?, ?B/s]"
            ],
            "application/vnd.jupyter.widget-view+json": {
              "version_major": 2,
              "version_minor": 0,
              "model_id": "34fd78ed2aea4b81b5870c8a42da2307"
            }
          },
          "metadata": {}
        },
        {
          "output_type": "display_data",
          "data": {
            "text/plain": [
              "config.json:   0%|          | 0.00/570 [00:00<?, ?B/s]"
            ],
            "application/vnd.jupyter.widget-view+json": {
              "version_major": 2,
              "version_minor": 0,
              "model_id": "e404fa082aea4340aa36fe988fa68d18"
            }
          },
          "metadata": {}
        }
      ]
    },
    {
      "cell_type": "code",
      "source": [
        "MAX_LEN = max([len(tokenizer(\" \".join(l))['input_ids']) for l in val_df[\"concat_utterance\"]])\n",
        "print(MAX_LEN)"
      ],
      "metadata": {
        "colab": {
          "base_uri": "https://localhost:8080/"
        },
        "id": "HmG42KhGJgl9",
        "outputId": "e4759bb9-515d-4c4a-ae57-41ba02e76d45",
        "execution": {
          "iopub.status.busy": "2024-02-08T00:34:43.615483Z",
          "iopub.execute_input": "2024-02-08T00:34:43.615963Z",
          "iopub.status.idle": "2024-02-08T00:34:58.267456Z",
          "shell.execute_reply.started": "2024-02-08T00:34:43.615922Z",
          "shell.execute_reply": "2024-02-08T00:34:58.266348Z"
        },
        "trusted": true
      },
      "execution_count": null,
      "outputs": [
        {
          "output_type": "stream",
          "name": "stdout",
          "text": [
            "413\n"
          ]
        }
      ]
    },
    {
      "cell_type": "code",
      "source": [
        "# Setting up the device for GPU usage\n",
        "from torch import cuda\n",
        "device = 'cuda' if cuda.is_available() else 'cpu'"
      ],
      "metadata": {
        "id": "tdtWDTtBE_YS",
        "execution": {
          "iopub.status.busy": "2024-02-08T00:34:58.269271Z",
          "iopub.execute_input": "2024-02-08T00:34:58.269645Z",
          "iopub.status.idle": "2024-02-08T00:34:58.324452Z",
          "shell.execute_reply.started": "2024-02-08T00:34:58.269609Z",
          "shell.execute_reply": "2024-02-08T00:34:58.323307Z"
        },
        "trusted": true
      },
      "execution_count": null,
      "outputs": []
    },
    {
      "cell_type": "code",
      "source": [
        "class CustomDataset(Dataset):\n",
        "\n",
        "    def __init__(self, dataframe, tokenizer, max_len):\n",
        "        self.tokenizer = tokenizer\n",
        "        self.data = dataframe\n",
        "        self.utterances = dataframe.concat_utterance\n",
        "        self.targets = self.data.triggers\n",
        "        self.max_len = max_len\n",
        "\n",
        "    def __len__(self):\n",
        "        return len(self.utterances)\n",
        "\n",
        "    def __getitem__(self, index):\n",
        "\n",
        "        utterances = str(self.utterances[index])\n",
        "        utterances = \" \".join(utterances.split())\n",
        "\n",
        "        inputs = self.tokenizer.encode_plus(\n",
        "            utterances,\n",
        "            None,\n",
        "            add_special_tokens=True,\n",
        "            max_length=self.max_len,\n",
        "            padding='max_length',\n",
        "            truncation=True,\n",
        "            return_token_type_ids=True\n",
        "        )\n",
        "        ids = inputs['input_ids']\n",
        "        mask = inputs['attention_mask']\n",
        "        token_type_ids = inputs[\"token_type_ids\"]\n",
        "\n",
        "\n",
        "        return {\n",
        "            'ids': torch.tensor(ids, dtype=torch.long),\n",
        "            'mask': torch.tensor(mask, dtype=torch.long),\n",
        "            'token_type_ids': torch.tensor(token_type_ids, dtype=torch.long),\n",
        "            'targets': torch.tensor(self.targets[index], dtype=torch.float)\n",
        "        }"
      ],
      "metadata": {
        "id": "dCrLUzvqFfjt",
        "execution": {
          "iopub.status.busy": "2024-02-08T00:35:00.766724Z",
          "iopub.execute_input": "2024-02-08T00:35:00.767549Z",
          "iopub.status.idle": "2024-02-08T00:35:00.776268Z",
          "shell.execute_reply.started": "2024-02-08T00:35:00.767514Z",
          "shell.execute_reply": "2024-02-08T00:35:00.775413Z"
        },
        "trusted": true
      },
      "execution_count": null,
      "outputs": []
    },
    {
      "cell_type": "code",
      "source": [
        "print(\"TRAIN Dataset: {}\".format(train_df.shape))\n",
        "print(\"VAL Dataset: {}\".format(val_df.shape))\n",
        "print(\"TEST Dataset: {}\".format(test_df.shape))\n",
        "\n",
        "training_set = CustomDataset(train_df.reset_index(), tokenizer, MAX_LEN)\n",
        "validation_set = CustomDataset(val_df.reset_index(), tokenizer, MAX_LEN)\n",
        "test_set = CustomDataset(test_df.reset_index(), tokenizer, MAX_LEN)"
      ],
      "metadata": {
        "colab": {
          "base_uri": "https://localhost:8080/"
        },
        "id": "RD8gLFw_Fl0_",
        "outputId": "56a6ed65-2449-46f1-9b23-3d33c6370e5a",
        "execution": {
          "iopub.status.busy": "2024-02-08T00:35:01.817201Z",
          "iopub.execute_input": "2024-02-08T00:35:01.817809Z",
          "iopub.status.idle": "2024-02-08T00:35:01.831166Z",
          "shell.execute_reply.started": "2024-02-08T00:35:01.817776Z",
          "shell.execute_reply": "2024-02-08T00:35:01.830079Z"
        },
        "trusted": true
      },
      "execution_count": null,
      "outputs": [
        {
          "output_type": "stream",
          "name": "stdout",
          "text": [
            "TRAIN Dataset: (28000, 4)\n",
            "VAL Dataset: (3500, 4)\n",
            "TEST Dataset: (3500, 4)\n"
          ]
        }
      ]
    },
    {
      "cell_type": "code",
      "source": [
        "tokenizer.decode(training_set[1]['ids'])"
      ],
      "metadata": {
        "colab": {
          "base_uri": "https://localhost:8080/",
          "height": 143
        },
        "id": "NYQProTMghaU",
        "outputId": "d98b17ff-b1ee-466d-d631-a412e70924f9",
        "execution": {
          "iopub.status.busy": "2024-02-08T00:35:03.191343Z",
          "iopub.execute_input": "2024-02-08T00:35:03.192234Z",
          "iopub.status.idle": "2024-02-08T00:35:03.243094Z",
          "shell.execute_reply.started": "2024-02-08T00:35:03.192189Z",
          "shell.execute_reply": "2024-02-08T00:35:03.242081Z"
        },
        "trusted": true
      },
      "execution_count": null,
      "outputs": [
        {
          "output_type": "execute_result",
          "data": {
            "text/plain": [
              "'[CLS] [ \" also i was the point person on my company\\'s transition from the kl - 5 to gr - 6 system. neutral \", \" you must\\'ve had your hands full. neutral trigger \",\\'that i did. that i did. neutral \\', \" so let\\'s talk a little bit about your duties. neutral \",\\'my duties? all right. surprise\\'] [SEP] [PAD] [PAD] [PAD] [PAD] [PAD] [PAD] [PAD] [PAD] [PAD] [PAD] [PAD] [PAD] [PAD] [PAD] [PAD] [PAD] [PAD] [PAD] [PAD] [PAD] [PAD] [PAD] [PAD] [PAD] [PAD] [PAD] [PAD] [PAD] [PAD] [PAD] [PAD] [PAD] [PAD] [PAD] [PAD] [PAD] [PAD] [PAD] [PAD] [PAD] [PAD] [PAD] [PAD] [PAD] [PAD] [PAD] [PAD] [PAD] [PAD] [PAD] [PAD] [PAD] [PAD] [PAD] [PAD] [PAD] [PAD] [PAD] [PAD] [PAD] [PAD] [PAD] [PAD] [PAD] [PAD] [PAD] [PAD] [PAD] [PAD] [PAD] [PAD] [PAD] [PAD] [PAD] [PAD] [PAD] [PAD] [PAD] [PAD] [PAD] [PAD] [PAD] [PAD] [PAD] [PAD] [PAD] [PAD] [PAD] [PAD] [PAD] [PAD] [PAD] [PAD] [PAD] [PAD] [PAD] [PAD] [PAD] [PAD] [PAD] [PAD] [PAD] [PAD] [PAD] [PAD] [PAD] [PAD] [PAD] [PAD] [PAD] [PAD] [PAD] [PAD] [PAD] [PAD] [PAD] [PAD] [PAD] [PAD] [PAD] [PAD] [PAD] [PAD] [PAD] [PAD] [PAD] [PAD] [PAD] [PAD] [PAD] [PAD] [PAD] [PAD] [PAD] [PAD] [PAD] [PAD] [PAD] [PAD] [PAD] [PAD] [PAD] [PAD] [PAD] [PAD] [PAD] [PAD] [PAD] [PAD] [PAD] [PAD] [PAD] [PAD] [PAD] [PAD] [PAD] [PAD] [PAD] [PAD] [PAD] [PAD] [PAD] [PAD] [PAD] [PAD] [PAD] [PAD] [PAD] [PAD] [PAD] [PAD] [PAD] [PAD] [PAD] [PAD] [PAD] [PAD] [PAD] [PAD] [PAD] [PAD] [PAD] [PAD] [PAD] [PAD] [PAD] [PAD] [PAD] [PAD] [PAD] [PAD] [PAD] [PAD] [PAD] [PAD] [PAD] [PAD] [PAD] [PAD] [PAD] [PAD] [PAD] [PAD] [PAD] [PAD] [PAD] [PAD] [PAD] [PAD] [PAD] [PAD] [PAD] [PAD] [PAD] [PAD] [PAD] [PAD] [PAD] [PAD] [PAD] [PAD] [PAD] [PAD] [PAD] [PAD] [PAD] [PAD] [PAD] [PAD] [PAD] [PAD] [PAD] [PAD] [PAD] [PAD] [PAD] [PAD] [PAD] [PAD] [PAD] [PAD] [PAD] [PAD] [PAD] [PAD] [PAD] [PAD] [PAD] [PAD] [PAD] [PAD] [PAD] [PAD] [PAD] [PAD] [PAD] [PAD] [PAD] [PAD] [PAD] [PAD] [PAD] [PAD] [PAD] [PAD] [PAD] [PAD] [PAD] [PAD] [PAD] [PAD] [PAD] [PAD] [PAD] [PAD] [PAD] [PAD] [PAD] [PAD] [PAD] [PAD] [PAD] [PAD] [PAD] [PAD] [PAD] [PAD] [PAD] [PAD] [PAD] [PAD] [PAD] [PAD] [PAD] [PAD] [PAD] [PAD] [PAD] [PAD] [PAD] [PAD] [PAD] [PAD] [PAD] [PAD] [PAD] [PAD] [PAD] [PAD] [PAD] [PAD] [PAD] [PAD] [PAD] [PAD] [PAD] [PAD] [PAD] [PAD] [PAD] [PAD] [PAD] [PAD] [PAD] [PAD] [PAD] [PAD] [PAD] [PAD] [PAD]'"
            ],
            "application/vnd.google.colaboratory.intrinsic+json": {
              "type": "string"
            }
          },
          "metadata": {},
          "execution_count": 19
        }
      ]
    },
    {
      "cell_type": "code",
      "source": [
        "train_params = {'batch_size': TRAIN_BATCH_SIZE,\n",
        "                'shuffle': True,\n",
        "                'num_workers': 0\n",
        "                }\n",
        "\n",
        "val_params = {'batch_size': VALID_BATCH_SIZE,\n",
        "                'shuffle': True,\n",
        "                'num_workers': 0\n",
        "                }\n",
        "\n",
        "test_params = {'batch_size': TEST_BATCH_SIZE,\n",
        "                'shuffle': True,\n",
        "                'num_workers': 0\n",
        "                }\n",
        "\n",
        "training_loader = DataLoader(training_set, **train_params)\n",
        "validation_loader = DataLoader(validation_set, **val_params)\n",
        "test_loader = DataLoader(test_set, **test_params)"
      ],
      "metadata": {
        "id": "N45p8PHNKC_9",
        "execution": {
          "iopub.status.busy": "2024-02-08T00:35:15.315342Z",
          "iopub.execute_input": "2024-02-08T00:35:15.315690Z",
          "iopub.status.idle": "2024-02-08T00:35:15.322058Z",
          "shell.execute_reply.started": "2024-02-08T00:35:15.315662Z",
          "shell.execute_reply": "2024-02-08T00:35:15.320900Z"
        },
        "trusted": true
      },
      "execution_count": null,
      "outputs": []
    },
    {
      "cell_type": "code",
      "source": [
        "# Creating the customized model, by adding a drop out and a dense layer on top of bert to get the final output for the model.\n",
        "\n",
        "class BERTClass(torch.nn.Module):\n",
        "    def __init__(self):\n",
        "        super(BERTClass, self).__init__()\n",
        "        self.l1 = transformers.BertModel.from_pretrained('bert-base-uncased')\n",
        "        self.l2 = torch.nn.Dropout(0.3)\n",
        "        self.l3 = torch.nn.Linear(768, 1)\n",
        "\n",
        "    def forward(self, ids, mask, token_type_ids):\n",
        "        _, output_1= self.l1(ids, attention_mask = mask, token_type_ids = token_type_ids, return_dict=False)\n",
        "\n",
        "        output_2 = self.l2(output_1)\n",
        "        output = self.l3(output_2)\n",
        "        return output\n",
        "\n",
        "    def reset_parameters(self):\n",
        "        for layer in self.children():\n",
        "            if hasattr(layer, 'reset_parameters'):\n",
        "                layer.reset_parameters()\n",
        "\n",
        "model = BERTClass()\n",
        "model.to(device)\n",
        "\n",
        "# Freezes all layers (mostly Bert) apart from final dense layer if activated\n",
        "freeze = False\n",
        "if freeze:\n",
        "    for name, param in model.named_parameters():\n",
        "        if 'l3' not in name: # classifier layer\n",
        "          param.requires_grad = False"
      ],
      "metadata": {
        "id": "2KcXcutcKaXo",
        "execution": {
          "iopub.status.busy": "2024-02-08T00:40:50.424120Z",
          "iopub.execute_input": "2024-02-08T00:40:50.424480Z",
          "iopub.status.idle": "2024-02-08T00:40:50.624744Z",
          "shell.execute_reply.started": "2024-02-08T00:40:50.424450Z",
          "shell.execute_reply": "2024-02-08T00:40:50.623835Z"
        },
        "trusted": true,
        "colab": {
          "base_uri": "https://localhost:8080/",
          "height": 49,
          "referenced_widgets": [
            "6757dbf307ad4960a831549e12e0dc35",
            "07dddc2740614ceca4d51b3fec76148c",
            "db94a5ab33d846c5aa4566d41ade126b",
            "623d34155df249e8a929ca2d9b369fff",
            "3bccf99db92b4af2875f1d98c6c816d2",
            "f0d8834aa1be4610af2b2ceb11b26ee7",
            "333fa23b7faa4229ac70c4c48981dc55",
            "befd67223314418088d517cfb29f8bb6",
            "34aa18ef48d040c58ba460f95d6d3c0c",
            "fb78d98a552e4a9b8df82a0069be18dd",
            "46985da046314b709eafe9d1091d70cd"
          ]
        },
        "outputId": "8b3f6d7b-bb27-4203-9fa7-a1fc637fc124"
      },
      "execution_count": null,
      "outputs": [
        {
          "output_type": "display_data",
          "data": {
            "text/plain": [
              "model.safetensors:   0%|          | 0.00/440M [00:00<?, ?B/s]"
            ],
            "application/vnd.jupyter.widget-view+json": {
              "version_major": 2,
              "version_minor": 0,
              "model_id": "6757dbf307ad4960a831549e12e0dc35"
            }
          },
          "metadata": {}
        }
      ]
    },
    {
      "cell_type": "code",
      "source": [
        "def loss_fn(outputs, targets):\n",
        "    return torch.nn.BCEWithLogitsLoss()(outputs, targets)"
      ],
      "metadata": {
        "id": "3U3IiIbSbPUn",
        "execution": {
          "iopub.status.busy": "2024-02-08T00:40:51.535936Z",
          "iopub.execute_input": "2024-02-08T00:40:51.536300Z",
          "iopub.status.idle": "2024-02-08T00:40:51.541159Z",
          "shell.execute_reply.started": "2024-02-08T00:40:51.536272Z",
          "shell.execute_reply": "2024-02-08T00:40:51.540144Z"
        },
        "trusted": true
      },
      "execution_count": null,
      "outputs": []
    },
    {
      "cell_type": "code",
      "source": [
        "# Sets up optimizer and scheduler\n",
        "optimizer = torch.optim.AdamW(params =  model.parameters(), lr=LEARNING_RATE)\n",
        "# total_steps = len(training_loader)*EPOCHS\n",
        "# scheduler = transformers.get_linear_schedule_with_warmup(optimizer, num_warmup_steps=int(0.1 * total_steps), num_training_steps=total_steps)"
      ],
      "metadata": {
        "id": "gpyX1tXJKjPt",
        "execution": {
          "iopub.status.busy": "2024-02-08T00:40:53.144726Z",
          "iopub.execute_input": "2024-02-08T00:40:53.145438Z",
          "iopub.status.idle": "2024-02-08T00:40:53.150514Z",
          "shell.execute_reply.started": "2024-02-08T00:40:53.145396Z",
          "shell.execute_reply": "2024-02-08T00:40:53.149622Z"
        },
        "trusted": true
      },
      "execution_count": null,
      "outputs": []
    },
    {
      "cell_type": "code",
      "source": [
        "def train(epoch):\n",
        "    model.train()\n",
        "    for _,data in enumerate(training_loader, 0):\n",
        "        ids = data['ids'].to(device, dtype = torch.long)\n",
        "        mask = data['mask'].to(device, dtype = torch.long)\n",
        "        token_type_ids = data['token_type_ids'].to(device, dtype = torch.long)\n",
        "        targets = data['targets'].to(device, dtype = torch.float)\n",
        "\n",
        "        # Forward pass\n",
        "        outputs = model(ids, mask, token_type_ids)\n",
        "        outputs = outputs.flatten()\n",
        "\n",
        "        # Clear previous gradients\n",
        "        optimizer.zero_grad()\n",
        "        loss = loss_fn(outputs, targets)\n",
        "        if _%1000==0:\n",
        "            print(f'Epoch: {epoch}, Loss:  {loss.item()}')\n",
        "\n",
        "        optimizer.zero_grad()\n",
        "        # Backward pass\n",
        "        loss.backward()\n",
        "        # Take a step using computer gradient\n",
        "        optimizer.step()"
      ],
      "metadata": {
        "id": "5nzDVLF-Kk4q",
        "execution": {
          "iopub.status.busy": "2024-02-08T00:40:54.953524Z",
          "iopub.execute_input": "2024-02-08T00:40:54.954198Z",
          "iopub.status.idle": "2024-02-08T00:40:54.961675Z",
          "shell.execute_reply.started": "2024-02-08T00:40:54.954163Z",
          "shell.execute_reply": "2024-02-08T00:40:54.960586Z"
        },
        "trusted": true
      },
      "execution_count": null,
      "outputs": []
    },
    {
      "cell_type": "code",
      "source": [
        "def validation(model):\n",
        "    model.eval()\n",
        "    fin_targets=[]\n",
        "    fin_outputs=[]\n",
        "    with torch.no_grad():\n",
        "        for _, data in enumerate(validation_loader, 0):\n",
        "            ids = data['ids'].to(device, dtype = torch.long)\n",
        "            mask = data['mask'].to(device, dtype = torch.long)\n",
        "            token_type_ids = data['token_type_ids'].to(device, dtype = torch.long)\n",
        "            targets = data['targets'].to(device, dtype = torch.float)\n",
        "            outputs = model(ids, mask, token_type_ids)\n",
        "\n",
        "            # Append batch targets and predictions to lists\n",
        "            fin_targets.extend(targets.cpu().detach().numpy().tolist())\n",
        "            fin_outputs.extend(torch.sigmoid(outputs).cpu().detach().numpy().tolist())\n",
        "    return fin_outputs, fin_targets"
      ],
      "metadata": {
        "id": "0D8uzaObKrQq",
        "execution": {
          "iopub.status.busy": "2024-02-08T00:40:56.473117Z",
          "iopub.execute_input": "2024-02-08T00:40:56.473493Z",
          "iopub.status.idle": "2024-02-08T00:40:56.484107Z",
          "shell.execute_reply.started": "2024-02-08T00:40:56.473461Z",
          "shell.execute_reply": "2024-02-08T00:40:56.480927Z"
        },
        "trusted": true
      },
      "execution_count": null,
      "outputs": []
    },
    {
      "cell_type": "code",
      "source": [
        "# Selects best threshold to calculate F1-score\n",
        "def select_threshold(outputs, targets):\n",
        "    results = {}\n",
        "    for tr in np.arange(0.1, 0.9, 0.01):\n",
        "        tr = round(tr, 2)\n",
        "        predictions= np.array(outputs) >= tr\n",
        "        results[tr] = metrics.f1_score(targets, predictions, average=\"macro\")\n",
        "    return max(results,key=results.get)\n",
        "\n",
        "# Calculates accuracy and F1-score on validation data\n",
        "def get_val_metrics(outputs, targets):\n",
        "    threshold = select_threshold(outputs, targets)\n",
        "    outputs = np.array(outputs) >= threshold\n",
        "    return metrics.accuracy_score(targets, outputs), metrics.f1_score(targets, outputs, average='macro')"
      ],
      "metadata": {
        "id": "DXOun4UXUQyf",
        "execution": {
          "iopub.status.busy": "2024-02-08T00:40:57.800374Z",
          "iopub.execute_input": "2024-02-08T00:40:57.800758Z",
          "iopub.status.idle": "2024-02-08T00:40:57.807853Z",
          "shell.execute_reply.started": "2024-02-08T00:40:57.800730Z",
          "shell.execute_reply": "2024-02-08T00:40:57.806851Z"
        },
        "trusted": true
      },
      "execution_count": null,
      "outputs": []
    },
    {
      "cell_type": "code",
      "source": [
        "# Setting random seed for reproducibility\n",
        "seeds = [123, 246, 369, 12, 24]\n",
        "\n",
        "# Setting random seed for numpy and pytorch\n",
        "def set_seeds(seed):\n",
        "    np.random.seed(seed)\n",
        "    torch.manual_seed(seed)\n",
        "    torch.cuda.manual_seed(seed)\n",
        "\n",
        "\n",
        "for seed in seeds:\n",
        "    set_seeds(seed)\n",
        "    print(\"CURRENTLY RUNNING MODEL FOR SEED {0}\".format(seed))\n",
        "    for epoch in range(EPOCHS):\n",
        "        train(epoch)\n",
        "        outputs, targets = validation(model)\n",
        "        val_accuracy, val_f1 = get_val_metrics(outputs, targets)\n",
        "\n",
        "        print(f\"Validation Accuracy: {val_accuracy:.4f}\")\n",
        "        print(f\"Validation F1-score: {val_f1:.4f}\")\n",
        "\n",
        "    torch.save(model, \"{0}_model_seed_{1}.pth\".format('freeze' if freeze else 'full', seed))\n",
        "    model.reset_parameters()"
      ],
      "metadata": {
        "colab": {
          "base_uri": "https://localhost:8080/"
        },
        "id": "kH_OrDJwKpLs",
        "outputId": "5b48ff61-7b1c-47c1-dd6b-8bcd24bc9f86",
        "execution": {
          "iopub.status.busy": "2024-02-08T00:40:59.610651Z",
          "iopub.execute_input": "2024-02-08T00:40:59.611210Z",
          "iopub.status.idle": "2024-02-08T00:55:51.485633Z",
          "shell.execute_reply.started": "2024-02-08T00:40:59.611178Z",
          "shell.execute_reply": "2024-02-08T00:55:51.484652Z"
        },
        "trusted": true
      },
      "execution_count": null,
      "outputs": [
        {
          "output_type": "stream",
          "name": "stdout",
          "text": [
            "CURRENTLY RUNNING MODEL FOR SEED 123\n",
            "Epoch: 0, Loss:  0.9102119207382202\n",
            "Epoch: 0, Loss:  0.5122236013412476\n",
            "Epoch: 0, Loss:  0.6595286130905151\n",
            "Epoch: 0, Loss:  0.08868007361888885\n",
            "Validation Accuracy: 0.8989\n",
            "Validation F1-score: 0.7921\n",
            "Epoch: 1, Loss:  0.24936573207378387\n",
            "Epoch: 1, Loss:  0.3600199222564697\n",
            "Epoch: 1, Loss:  0.027348455041646957\n",
            "Epoch: 1, Loss:  0.028890639543533325\n",
            "Validation Accuracy: 0.8849\n",
            "Validation F1-score: 0.7805\n",
            "Epoch: 2, Loss:  0.1804177612066269\n",
            "Epoch: 2, Loss:  0.23348450660705566\n",
            "Epoch: 2, Loss:  0.21296891570091248\n",
            "Epoch: 2, Loss:  0.2630492150783539\n",
            "Validation Accuracy: 0.9029\n",
            "Validation F1-score: 0.7969\n",
            "CURRENTLY RUNNING MODEL FOR SEED 246\n",
            "Epoch: 0, Loss:  0.7172322273254395\n",
            "Epoch: 0, Loss:  0.03374826908111572\n",
            "Epoch: 0, Loss:  0.1012473925948143\n",
            "Epoch: 0, Loss:  0.03150996193289757\n",
            "Validation Accuracy: 0.8951\n",
            "Validation F1-score: 0.7962\n",
            "Epoch: 1, Loss:  0.10414110869169235\n",
            "Epoch: 1, Loss:  0.26800549030303955\n",
            "Epoch: 1, Loss:  0.09664570540189743\n",
            "Epoch: 1, Loss:  0.3709995150566101\n",
            "Validation Accuracy: 0.8809\n",
            "Validation F1-score: 0.7617\n",
            "Epoch: 2, Loss:  0.11524227261543274\n",
            "Epoch: 2, Loss:  0.07198408246040344\n",
            "Epoch: 2, Loss:  0.0656280666589737\n",
            "Epoch: 2, Loss:  0.0631754919886589\n",
            "Validation Accuracy: 0.9011\n",
            "Validation F1-score: 0.7859\n",
            "CURRENTLY RUNNING MODEL FOR SEED 369\n",
            "Epoch: 0, Loss:  0.5033901929855347\n",
            "Epoch: 0, Loss:  0.06355846673250198\n",
            "Epoch: 0, Loss:  0.0033579140435904264\n",
            "Epoch: 0, Loss:  0.03199046105146408\n",
            "Validation Accuracy: 0.8903\n",
            "Validation F1-score: 0.7670\n",
            "Epoch: 1, Loss:  0.03240055590867996\n",
            "Epoch: 1, Loss:  0.15407772362232208\n",
            "Epoch: 1, Loss:  0.029037561267614365\n",
            "Epoch: 1, Loss:  0.0014910403406247497\n",
            "Validation Accuracy: 0.8909\n",
            "Validation F1-score: 0.7690\n",
            "Epoch: 2, Loss:  0.0007742709713056684\n",
            "Epoch: 2, Loss:  0.05125803127884865\n",
            "Epoch: 2, Loss:  0.2536950707435608\n",
            "Epoch: 2, Loss:  0.016852330416440964\n",
            "Validation Accuracy: 0.8931\n",
            "Validation F1-score: 0.7731\n",
            "CURRENTLY RUNNING MODEL FOR SEED 12\n",
            "Epoch: 0, Loss:  0.39953285455703735\n",
            "Epoch: 0, Loss:  0.025054413825273514\n",
            "Epoch: 0, Loss:  0.18545307219028473\n",
            "Epoch: 0, Loss:  0.04710766673088074\n",
            "Validation Accuracy: 0.8891\n",
            "Validation F1-score: 0.7744\n",
            "Epoch: 1, Loss:  0.009860560297966003\n",
            "Epoch: 1, Loss:  0.33714810013771057\n",
            "Epoch: 1, Loss:  0.026743916794657707\n",
            "Epoch: 1, Loss:  0.25714460015296936\n",
            "Validation Accuracy: 0.8863\n",
            "Validation F1-score: 0.7705\n",
            "Epoch: 2, Loss:  0.034965429455041885\n",
            "Epoch: 2, Loss:  0.23036840558052063\n",
            "Epoch: 2, Loss:  0.0019077545730397105\n",
            "Epoch: 2, Loss:  0.005407942924648523\n",
            "Validation Accuracy: 0.8880\n",
            "Validation F1-score: 0.7783\n",
            "CURRENTLY RUNNING MODEL FOR SEED 24\n",
            "Epoch: 0, Loss:  0.526394248008728\n",
            "Epoch: 0, Loss:  0.1492214947938919\n",
            "Epoch: 0, Loss:  0.5744278430938721\n",
            "Epoch: 0, Loss:  0.03437924012541771\n",
            "Validation Accuracy: 0.8869\n",
            "Validation F1-score: 0.7686\n",
            "Epoch: 1, Loss:  0.0008857016218826175\n",
            "Epoch: 1, Loss:  0.0011780825443565845\n",
            "Epoch: 1, Loss:  0.14676599204540253\n",
            "Epoch: 1, Loss:  0.02870003692805767\n",
            "Validation Accuracy: 0.8874\n",
            "Validation F1-score: 0.7813\n",
            "Epoch: 2, Loss:  0.0009544340427964926\n",
            "Epoch: 2, Loss:  0.0036856860388070345\n",
            "Epoch: 2, Loss:  0.0010743022430688143\n",
            "Epoch: 2, Loss:  0.00022618728689849377\n",
            "Validation Accuracy: 0.9000\n",
            "Validation F1-score: 0.7891\n"
          ]
        }
      ]
    },
    {
      "cell_type": "code",
      "source": [
        "def get_sequence_f1_scores(outputs, targets):\n",
        "    utterance_dict = {}\n",
        "    f1_scores = []\n",
        "\n",
        "    # Creates dictionary that contains a list of predictions and targets for each utterance/dialogue\n",
        "    for output, target, index in zip(outputs, targets, df['episode']):\n",
        "        if index in utterance_dict:\n",
        "            utterance_dict[index]['output'].append(output.tolist()[0])\n",
        "            utterance_dict[index]['target'].append(target)\n",
        "        else:\n",
        "            utterance_dict[index] = {'output': [output.tolist()[0]], 'target': [target]}\n",
        "\n",
        "    # Computes F1-score for each utterance/dialogue\n",
        "    for key, utterance in utterance_dict.items():\n",
        "        pred = utterance['output']\n",
        "        target = utterance['target']\n",
        "        f1_scores.append(metrics.f1_score(target, pred, average='macro'))\n",
        "\n",
        "    sequence_f1 = np.mean(f1_scores)\n",
        "    unrolled_sequence_f1 = metrics.f1_score(targets, outputs, average='macro')\n",
        "\n",
        "    return sequence_f1, unrolled_sequence_f1"
      ],
      "metadata": {
        "id": "UHajRzqzluln",
        "execution": {
          "iopub.status.busy": "2024-02-08T00:55:59.259070Z",
          "iopub.execute_input": "2024-02-08T00:55:59.259476Z",
          "iopub.status.idle": "2024-02-08T00:55:59.269056Z",
          "shell.execute_reply.started": "2024-02-08T00:55:59.259435Z",
          "shell.execute_reply": "2024-02-08T00:55:59.267847Z"
        },
        "trusted": true
      },
      "execution_count": null,
      "outputs": []
    },
    {
      "cell_type": "code",
      "source": [
        "for seed in seeds:\n",
        "    print(f\"Running seed {seed}\")\n",
        "    if freeze:\n",
        "        model = torch.load(\"freeze_model_seed_{0}.pth\".format(seed))\n",
        "    else:\n",
        "        model = torch.load(\"full_model_seed_{0}.pth\".format(seed))\n",
        "    # Select best threshold to be used on the test dataset\n",
        "    outputs, targets = validation(model)\n",
        "    threshold = select_threshold(outputs, targets)\n",
        "    outputs = np.array(outputs) >= threshold\n",
        "    thresholds[seed] = threshold\n",
        "\n",
        "    sequence_f1, unrolled_sequence_f1 = get_sequence_f1_scores(outputs, targets)\n",
        "    print(f\"Sequence F1 Score = {sequence_f1}\")\n",
        "    print(f\"Unrolled Sequence F1 Score = {unrolled_sequence_f1}\")"
      ],
      "metadata": {
        "id": "BlRtT53us9vG",
        "colab": {
          "base_uri": "https://localhost:8080/"
        },
        "outputId": "23e3fd8a-1c4a-4b44-be80-6442a01e9193",
        "execution": {
          "iopub.status.busy": "2024-02-08T00:56:00.627509Z",
          "iopub.execute_input": "2024-02-08T00:56:00.628012Z",
          "iopub.status.idle": "2024-02-08T00:57:39.925225Z",
          "shell.execute_reply.started": "2024-02-08T00:56:00.627963Z",
          "shell.execute_reply": "2024-02-08T00:57:39.924171Z"
        },
        "trusted": true
      },
      "execution_count": null,
      "outputs": [
        {
          "output_type": "stream",
          "name": "stdout",
          "text": [
            "Running seed 123\n",
            "Sequence F1 Score = 0.5850502338465715\n",
            "Unrolled Sequence F1 Score = 0.5637421720442082\n",
            "Running seed 246\n",
            "Sequence F1 Score = 0.5869857791151113\n",
            "Unrolled Sequence F1 Score = 0.5735405299066814\n",
            "Running seed 369\n",
            "Sequence F1 Score = 0.6047934566620076\n",
            "Unrolled Sequence F1 Score = 0.5850008937813262\n",
            "Running seed 12\n",
            "Sequence F1 Score = 0.5865516511928957\n",
            "Unrolled Sequence F1 Score = 0.5760301708681982\n",
            "Running seed 24\n",
            "Sequence F1 Score = 0.5916117709359535\n",
            "Unrolled Sequence F1 Score = 0.5771766676689146\n"
          ]
        }
      ]
    },
    {
      "cell_type": "code",
      "source": [
        "def test(model):\n",
        "    model.eval()\n",
        "    fin_targets=[]\n",
        "    fin_outputs=[]\n",
        "    with torch.no_grad():\n",
        "        for _, data in enumerate(test_loader, 0):\n",
        "            ids = data['ids'].to(device, dtype = torch.long)\n",
        "            mask = data['mask'].to(device, dtype = torch.long)\n",
        "            token_type_ids = data['token_type_ids'].to(device, dtype = torch.long)\n",
        "            targets = data['targets'].to(device, dtype = torch.float)\n",
        "            outputs = model(ids, mask, token_type_ids)\n",
        "            fin_targets.extend(targets.cpu().detach().numpy().tolist())\n",
        "            fin_outputs.extend(torch.sigmoid(outputs).cpu().detach().numpy().tolist())\n",
        "    return fin_outputs, fin_targets"
      ],
      "metadata": {
        "id": "GniP5PhnS7ri",
        "execution": {
          "iopub.status.busy": "2024-02-08T00:58:05.830966Z",
          "iopub.execute_input": "2024-02-08T00:58:05.831860Z",
          "iopub.status.idle": "2024-02-08T00:58:05.838867Z",
          "shell.execute_reply.started": "2024-02-08T00:58:05.831821Z",
          "shell.execute_reply": "2024-02-08T00:58:05.838044Z"
        },
        "trusted": true
      },
      "execution_count": null,
      "outputs": []
    },
    {
      "cell_type": "code",
      "source": [
        "for seed in seeds:\n",
        "    print(f\"Running seed {seed}\")\n",
        "    if freeze:\n",
        "        model = torch.load(\"freeze_model_seed_{0}.pth\".format(seed))\n",
        "    else:\n",
        "        model = torch.load(\"full_model_seed_{0}.pth\".format(seed))\n",
        "    outputs, targets = test(model)\n",
        "    outputs = np.array(outputs) >= thresholds[seed]\n",
        "\n",
        "    sequence_f1, unrolled_sequence_f1 = get_sequence_f1_scores(outputs, targets)\n",
        "    print(f\"Sequence F1 Score = {sequence_f1}\")\n",
        "    print(f\"Unrolled Sequence F1 Score = {unrolled_sequence_f1}\")"
      ],
      "metadata": {
        "colab": {
          "base_uri": "https://localhost:8080/"
        },
        "id": "6RatmpCm1YvJ",
        "outputId": "a2804b4d-c930-45aa-cd78-03d2487b15db",
        "execution": {
          "iopub.status.busy": "2024-02-08T00:59:01.046606Z",
          "iopub.execute_input": "2024-02-08T00:59:01.046997Z",
          "iopub.status.idle": "2024-02-08T01:00:38.016270Z",
          "shell.execute_reply.started": "2024-02-08T00:59:01.046947Z",
          "shell.execute_reply": "2024-02-08T01:00:38.015313Z"
        },
        "trusted": true
      },
      "execution_count": null,
      "outputs": [
        {
          "output_type": "stream",
          "name": "stdout",
          "text": [
            "Running seed 123\n",
            "Sequence F1 Score = 0.5395126267639464\n",
            "Unrolled Sequence F1 Score = 0.5279020436724932\n",
            "Running seed 246\n",
            "Sequence F1 Score = 0.5465537355863194\n",
            "Unrolled Sequence F1 Score = 0.5423733620738556\n",
            "Running seed 369\n",
            "Sequence F1 Score = 0.5425034390925118\n",
            "Unrolled Sequence F1 Score = 0.5421252971650795\n",
            "Running seed 12\n",
            "Sequence F1 Score = 0.5470682415549597\n",
            "Unrolled Sequence F1 Score = 0.5415805134610437\n",
            "Running seed 24\n",
            "Sequence F1 Score = 0.5474651873591811\n",
            "Unrolled Sequence F1 Score = 0.5448090168602631\n"
          ]
        }
      ]
    },
    {
      "cell_type": "code",
      "source": [
        "def average_f1_score():\n",
        "    sequence_f1_scores = []\n",
        "    unrolled_sequence_f1_scores = []\n",
        "\n",
        "    for seed in seeds:\n",
        "        if freeze:\n",
        "            model = torch.load(\"freeze_model_seed_{0}.pth\".format(seed))\n",
        "        else:\n",
        "            model = torch.load(\"full_model_seed_{0}.pth\".format(seed))\n",
        "\n",
        "        model.eval()\n",
        "        outputs, targets = test(model)\n",
        "        outputs = np.array(outputs) >= thresholds[seed]\n",
        "\n",
        "        sequence_f1, unrolled_sequence_f1 = get_sequence_f1_scores(outputs, targets)\n",
        "        sequence_f1_scores.append(sequence_f1)\n",
        "        unrolled_sequence_f1_scores.append(unrolled_sequence_f1)\n",
        "\n",
        "\n",
        "    average_f1 = sum(sequence_f1_scores)/len(sequence_f1_scores)\n",
        "    average_unrolled_f1 = sum(unrolled_sequence_f1_scores)/len(unrolled_sequence_f1_scores)\n",
        "\n",
        "    print(f\"Average Sequence F1 Score = {sequence_f1}\")\n",
        "    print(f\"Average Unrolled Sequence F1 Score = {unrolled_sequence_f1}\")"
      ],
      "metadata": {
        "id": "Z-_5OFGn1526",
        "execution": {
          "iopub.status.busy": "2024-02-08T01:01:02.624059Z",
          "iopub.execute_input": "2024-02-08T01:01:02.624761Z",
          "iopub.status.idle": "2024-02-08T01:01:02.632525Z",
          "shell.execute_reply.started": "2024-02-08T01:01:02.624728Z",
          "shell.execute_reply": "2024-02-08T01:01:02.631581Z"
        },
        "trusted": true
      },
      "execution_count": null,
      "outputs": []
    },
    {
      "cell_type": "code",
      "source": [
        "average_f1_score()"
      ],
      "metadata": {
        "colab": {
          "base_uri": "https://localhost:8080/"
        },
        "id": "bsdk4AUM86xe",
        "outputId": "5c1c8d4e-3e8e-4f24-d0d1-7c2fdd59312f",
        "execution": {
          "iopub.status.busy": "2024-02-08T01:01:04.749581Z",
          "iopub.execute_input": "2024-02-08T01:01:04.750207Z",
          "iopub.status.idle": "2024-02-08T01:02:41.561600Z",
          "shell.execute_reply.started": "2024-02-08T01:01:04.750173Z",
          "shell.execute_reply": "2024-02-08T01:02:41.560606Z"
        },
        "trusted": true
      },
      "execution_count": null,
      "outputs": [
        {
          "output_type": "stream",
          "name": "stdout",
          "text": [
            "Average Sequence F1 Score = 0.5484988034027469\n",
            "Average Unrolled Sequence F1 Score = 0.5448090168602631\n"
          ]
        }
      ]
    },
    {
      "cell_type": "markdown",
      "source": [
        "##Error analysis"
      ],
      "metadata": {
        "id": "lhdSPyqZtflN"
      }
    },
    {
      "cell_type": "code",
      "source": [
        "# Confusion Matrix\n",
        "\n",
        "import matplotlib.pyplot as plt\n",
        "from sklearn.metrics import confusion_matrix, ConfusionMatrixDisplay, roc_curve, precision_recall_curve\n",
        "from sklearn import metrics\n",
        "\n",
        "y_true = targets\n",
        "y_pred = outputs\n",
        "\n",
        "cm = confusion_matrix(y_true, y_pred)\n",
        "disp = ConfusionMatrixDisplay(confusion_matrix=cm)\n",
        "disp.plot()\n",
        "plt.title('Confusion Matrix')\n",
        "plt.show()"
      ],
      "metadata": {
        "id": "yAVETS5OtUAA",
        "colab": {
          "base_uri": "https://localhost:8080/",
          "height": 472
        },
        "outputId": "c4f0cb41-8691-4e48-f953-5b0c06eb2216"
      },
      "execution_count": null,
      "outputs": [
        {
          "output_type": "display_data",
          "data": {
            "text/plain": [
              "<Figure size 640x480 with 2 Axes>"
            ],
            "image/png": "[encoded data removed]"
          },
          "metadata": {}
        }
      ]
    },
    {
      "cell_type": "code",
      "source": [
        "# ROC Curve\n",
        "\n",
        "metrics.RocCurveDisplay.from_predictions(y_true, y_pred)\n",
        "plt.show()"
      ],
      "metadata": {
        "colab": {
          "base_uri": "https://localhost:8080/",
          "height": 449
        },
        "id": "Hl-S3HeGy-B4",
        "outputId": "ba16e8a1-7023-4cec-a572-9c9a2745b84c"
      },
      "execution_count": null,
      "outputs": [
        {
          "output_type": "display_data",
          "data": {
            "text/plain": [
              "<Figure size 640x480 with 1 Axes>"
            ],
            "image/png": "[encoded data removed]"
          },
          "metadata": {}
        }
      ]
    },
    {
      "cell_type": "code",
      "source": [
        "# PrecisionRecall\n",
        "\n",
        "precision, recall, _ = precision_recall_curve(y_true, y_pred)\n",
        "plt.plot(recall, precision, marker='.')\n",
        "plt.xlabel('Recall')\n",
        "plt.ylabel('Precision')\n",
        "plt.title('Precision-Recall curve')\n",
        "plt.show()\n"
      ],
      "metadata": {
        "colab": {
          "base_uri": "https://localhost:8080/",
          "height": 472
        },
        "id": "TADLQ9-zzUvj",
        "outputId": "d2727d62-8928-4ff0-f4b6-6f88eec9292d"
      },
      "execution_count": null,
      "outputs": [
        {
          "output_type": "display_data",
          "data": {
            "text/plain": [
              "<Figure size 640x480 with 1 Axes>"
            ],
            "image/png": "[encoded data removed]"
          },
          "metadata": {}
        }
      ]
    },
    {
      "cell_type": "code",
      "source": [],
      "metadata": {
        "id": "y5UTYHk27yZ2"
      },
      "execution_count": null,
      "outputs": []
    },
    {
      "cell_type": "code",
      "source": [],
      "metadata": {
        "id": "pmWyl9652j0X"
      },
      "execution_count": null,
      "outputs": []
    }
  ]
}